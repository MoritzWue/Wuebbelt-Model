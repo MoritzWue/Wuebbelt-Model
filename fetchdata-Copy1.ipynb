{
 "cells": [
  {
   "cell_type": "markdown",
   "id": "b4fe8a0a",
   "metadata": {},
   "source": [
    "**Datenerhebung**\n",
    "\n",
    "Die Daten wurden von Spotify erhoben, die diverse Analysedaten zu einer großen Anzahl von Liedern zur Verfügung stellen. Mithilfe einer HTTP-GET kann eine Anfrage an die Server von Spotify geschickt werden und man erhält als Antwort diverse Daten zu den Liedern. Ziel ist einen Datensatz zu erheben mit Liedern, die von Spotify zu einem bestimmten Genre zugeordnet werden. Zusätzlich werden zu jedem Lied, weitere Analyse Daten erhoben. Dadurch soll ein Modell entwickelt werden, welches unbekannten Lieder automatisch zu einem Genre zuordnen kann. "
   ]
  },
  {
   "cell_type": "markdown",
   "id": "bfa0a7a4",
   "metadata": {},
   "source": [
    "Zuerst werden die beiden Module *Pandas* und *Requests* geladen. Pandas dient zur Erstellung und Bearbeitung von Tabellen. Das Requests Modul wird für die HTTP-Anfragen genutzt."
   ]
  },
  {
   "cell_type": "code",
   "execution_count": 20,
   "id": "8806a722",
   "metadata": {},
   "outputs": [],
   "source": [
    "import requests\n",
    "import pandas as pd"
   ]
  },
  {
   "cell_type": "markdown",
   "id": "1715a438",
   "metadata": {},
   "source": [
    "Das *header*-Objekt muss immer im header bei den HTTP-Anfragen mitübergeben werden und beinhaltet eine Authentifizierung Token. Der Token wird von Spotify generiert und ist für eine Stunde gültig, bis ein neuer von Spotify generiert werden muss. "
   ]
  },
  {
   "cell_type": "code",
   "execution_count": 21,
   "id": "c6c3c4e4",
   "metadata": {},
   "outputs": [],
   "source": [
    "token = \"Bearer BQCJ3AHkRf1iIgQg_7Sli8qzEeAfApJ8753UhE9KExP7mTFMeGdnZIsKA_ybGEyqfjmbkRLaGJhBXuhkysMn8042_Kskhg11WoEDsSeUJqqHz3dm3PMXSwyThcOHC6szXLqO0rHsw9iCQQH1-pR6IChqzuwZsvTxgLcLWzUkMbcchK4\"\n",
    "header = {\n",
    "    \"Authorization\": token\n",
    "}"
   ]
  },
  {
   "cell_type": "markdown",
   "id": "a741e7dc",
   "metadata": {},
   "source": [
    "Die Spotify API bietet die Möglichkeit, sich Informationen über mehrere Playlisten zu beschaffen, die in einer bestimmten Kategorie fallen. Die Liste *genre* beinhaltet die IDs von den Kategorien, wodurch sich zum Beispiel Informationen abrufen lassen über alle Playlisten, die von Spotify erstellt, die in die Kategorie Pop fallen. Es fällt auf, dass die ID für das Metal Genre anders aufgebaut ist als die anderen IDs der Genres und anstatt aus dem Wort „metal“, aus einer Kombination aus Zahlen und Buchstaben besteht."
   ]
  },
  {
   "cell_type": "code",
   "execution_count": 22,
   "id": "45ba6e09",
   "metadata": {},
   "outputs": [],
   "source": [
    "genre = [\"pop\",\"hiphop\",\"edm_dance\",\"rock\",\"party\",\"indie_alt\",\"alternative\",\"0JQ5DAqbMKFDkd668ypn6O\"]"
   ]
  },
  {
   "cell_type": "markdown",
   "id": "4ef583d3",
   "metadata": {},
   "source": [
    "Über eine HTTP-GET anfrage lassen sich weitere Informationen zu den einzelnen Kategorien von Spotify beschaffen [[Kategorien](https://developer.spotify.com/console/get-browse-categories/), Abrufdatum: 11.07.2022]\n"
   ]
  },
  {
   "cell_type": "code",
   "execution_count": 23,
   "id": "81480ddd",
   "metadata": {},
   "outputs": [
    {
     "ename": "TypeError",
     "evalue": "'NoneType' object is not subscriptable",
     "output_type": "error",
     "traceback": [
      "\u001b[1;31m---------------------------------------------------------------------------\u001b[0m",
      "\u001b[1;31mTypeError\u001b[0m                                 Traceback (most recent call last)",
      "File \u001b[1;32m<timed exec>:10\u001b[0m, in \u001b[0;36m<module>\u001b[1;34m\u001b[0m\n",
      "\u001b[1;31mTypeError\u001b[0m: 'NoneType' object is not subscriptable"
     ]
    }
   ],
   "source": [
    "%%time\n",
    "rows = []\n",
    "for i in genre:\n",
    "    gern = i\n",
    "    \n",
    "    get_playlistID = f\"https://api.spotify.com/v1/browse/categories/{gern}/playlists\"\n",
    "    playlistID = requests.get(get_playlistID,headers=header)\n",
    "    if playlistID.status_code == 200:\n",
    "        playlistID = playlistID.json()\n",
    "    for j in playlistID[\"playlists\"][\"items\"]:\n",
    "        rows.append({\"id\":j[\"id\"],\"name\":j[\"name\"],\"gerne\":i})\n",
    "    "
   ]
  },
  {
   "cell_type": "markdown",
   "id": "26699458",
   "metadata": {},
   "source": [
    "Die gesammelten Playlisten lassen sich in einen Datenframe umformen und durch, das Gruppieren nach Genre, lässt sich erkennen, dass zu jedem Genre nahezu gleichviele Playlisten gibt. \n"
   ]
  },
  {
   "cell_type": "code",
   "execution_count": 24,
   "id": "7d659934",
   "metadata": {},
   "outputs": [],
   "source": [
    "df = pd.DataFrame(rows)"
   ]
  },
  {
   "cell_type": "code",
   "execution_count": 25,
   "id": "08faed34",
   "metadata": {},
   "outputs": [
    {
     "data": {
      "text/plain": [
       "gerne\n",
       "0JQ5DAqbMKFDkd668ypn6O    17\n",
       "alternative               18\n",
       "edm_dance                 20\n",
       "hiphop                    14\n",
       "indie_alt                 20\n",
       "party                      8\n",
       "pop                       20\n",
       "rock                      20\n",
       "dtype: int64"
      ]
     },
     "execution_count": 25,
     "metadata": {},
     "output_type": "execute_result"
    }
   ],
   "source": [
    "df.groupby(\"gerne\").size()"
   ]
  },
  {
   "cell_type": "code",
   "execution_count": 26,
   "id": "cf3f012e",
   "metadata": {},
   "outputs": [
    {
     "data": {
      "text/plain": [
       "gerne\n",
       "alternative    18\n",
       "edm_dance      20\n",
       "hiphop         14\n",
       "indie_alt      20\n",
       "metal          17\n",
       "party           8\n",
       "pop            20\n",
       "rock           20\n",
       "dtype: int64"
      ]
     },
     "execution_count": 26,
     "metadata": {},
     "output_type": "execute_result"
    }
   ],
   "source": [
    "#Umbennen des Genres für Playlisten in der Kategorie Metal\n",
    "df.loc[df[\"gerne\"] == \"0JQ5DAqbMKFDkd668ypn6O\",\"gerne\"] = \"metal\"\n",
    "df.groupby(\"gerne\").size()"
   ]
  },
  {
   "cell_type": "code",
   "execution_count": 27,
   "id": "8953bd18",
   "metadata": {},
   "outputs": [],
   "source": [
    "rows = []\n",
    "#Parameter für die Abfrage, da nur der Titel eines Liedes und die ID von interesse ist\n",
    "params = {\n",
    "    \"fields\" : \"items(track(name,id))\"\n",
    "}"
   ]
  },
  {
   "cell_type": "markdown",
   "id": "e061dabb",
   "metadata": {},
   "source": [
    "Mithelfe der gesammelten Informationen über die Playlisten, lassen sich mit einer weiteren HTTP-GET anfrage Informationen über den Inhalt der Playlisten beschaffen. Die Titel und IDs der Lieder werden wieder in einer Liste zwischengespeichert. Da die Lieder sich immer in einer Playlist zu einem bestimmten Genre befanden, können so die einzelnen Lieder einem Genre zugewiesen werden. "
   ]
  },
  {
   "cell_type": "code",
   "execution_count": 28,
   "id": "040579e4",
   "metadata": {},
   "outputs": [
    {
     "name": "stdout",
     "output_type": "stream",
     "text": [
      "CPU times: total: 2.72 s\n",
      "Wall time: 40.3 s\n"
     ]
    }
   ],
   "source": [
    "%%time\n",
    "for i in range(0,len(df)):\n",
    "    play_ID = df[\"id\"][i]\n",
    "    url = f\"https://api.spotify.com/v1/playlists/{play_ID}/tracks\"\n",
    "    \n",
    "    #fetchdata\n",
    "    x = requests.get(url,params=params,headers=header)\n",
    "    if x.status_code != 200:\n",
    "        print(f\"Fehlercode: {x.status_code}\")\n",
    "        break\n",
    "    x_dict = x.json()\n",
    "    \n",
    "    #Save Data\n",
    "    for j in x_dict[\"items\"]:\n",
    "        try:\n",
    "            rows.append({\"id\":j[\"track\"][\"id\"],\"titel\":j[\"track\"][\"name\"],\"genre\":df[\"gerne\"][i]})\n",
    "        except TypeError:\n",
    "            pass"
   ]
  },
  {
   "cell_type": "code",
   "execution_count": 29,
   "id": "c5d71e5c",
   "metadata": {},
   "outputs": [
    {
     "data": {
      "text/plain": [
       "(10410, 3)"
      ]
     },
     "execution_count": 29,
     "metadata": {},
     "output_type": "execute_result"
    }
   ],
   "source": [
    "df = pd.DataFrame(rows)\n",
    "df.shape"
   ]
  },
  {
   "cell_type": "code",
   "execution_count": 30,
   "id": "76436e87",
   "metadata": {},
   "outputs": [
    {
     "data": {
      "text/html": [
       "<div>\n",
       "<style scoped>\n",
       "    .dataframe tbody tr th:only-of-type {\n",
       "        vertical-align: middle;\n",
       "    }\n",
       "\n",
       "    .dataframe tbody tr th {\n",
       "        vertical-align: top;\n",
       "    }\n",
       "\n",
       "    .dataframe thead th {\n",
       "        text-align: right;\n",
       "    }\n",
       "</style>\n",
       "<table border=\"1\" class=\"dataframe\">\n",
       "  <thead>\n",
       "    <tr style=\"text-align: right;\">\n",
       "      <th></th>\n",
       "      <th>id</th>\n",
       "      <th>titel</th>\n",
       "      <th>genre</th>\n",
       "    </tr>\n",
       "  </thead>\n",
       "  <tbody>\n",
       "    <tr>\n",
       "      <th>0</th>\n",
       "      <td>2cg9zDi0rvj3HjKxvv2tvY</td>\n",
       "      <td>Follow</td>\n",
       "      <td>pop</td>\n",
       "    </tr>\n",
       "    <tr>\n",
       "      <th>1</th>\n",
       "      <td>2q7jpVfCtcuRwcur9nQeuC</td>\n",
       "      <td>PARADISE</td>\n",
       "      <td>pop</td>\n",
       "    </tr>\n",
       "    <tr>\n",
       "      <th>2</th>\n",
       "      <td>4zN21mbAuaD0WqtmaTZZeP</td>\n",
       "      <td>Ferrari</td>\n",
       "      <td>pop</td>\n",
       "    </tr>\n",
       "    <tr>\n",
       "      <th>3</th>\n",
       "      <td>3a0F2N6rXJSibQTp77xH4f</td>\n",
       "      <td>Ohne Benzin</td>\n",
       "      <td>pop</td>\n",
       "    </tr>\n",
       "    <tr>\n",
       "      <th>4</th>\n",
       "      <td>75FEaRjZTKLhTrFGsfMUXR</td>\n",
       "      <td>Running Up That Hill (A Deal With God)</td>\n",
       "      <td>pop</td>\n",
       "    </tr>\n",
       "  </tbody>\n",
       "</table>\n",
       "</div>"
      ],
      "text/plain": [
       "                       id                                   titel genre\n",
       "0  2cg9zDi0rvj3HjKxvv2tvY                                  Follow   pop\n",
       "1  2q7jpVfCtcuRwcur9nQeuC                                PARADISE   pop\n",
       "2  4zN21mbAuaD0WqtmaTZZeP                                 Ferrari   pop\n",
       "3  3a0F2N6rXJSibQTp77xH4f                             Ohne Benzin   pop\n",
       "4  75FEaRjZTKLhTrFGsfMUXR  Running Up That Hill (A Deal With God)   pop"
      ]
     },
     "execution_count": 30,
     "metadata": {},
     "output_type": "execute_result"
    }
   ],
   "source": [
    "df.head()"
   ]
  },
  {
   "cell_type": "markdown",
   "id": "21468a53",
   "metadata": {},
   "source": [
    "Lieder können sich in mehreren Playlisten befinden, auch zu anderen Genres, können die Lieder nicht eindeutig einem Genre zugewiesen werden. Um die Duplikate zu entfernen und die Lieder eindeutig einem Genre zuzuweisen, wird die Tabelle nach den IDs gruppiert und nach der Häufigkeit des Auftretens in den Genres sortiert. Ein Lied das zum Beispiel in drei Playlisten zum Genre Metal zu finden war und in zwei Playlisten zum Genre Rock, wird so dem Genre Metal zugewiesen."
   ]
  },
  {
   "cell_type": "code",
   "execution_count": 31,
   "id": "1540da4f",
   "metadata": {},
   "outputs": [
    {
     "name": "stderr",
     "output_type": "stream",
     "text": [
      "C:\\Users\\Moritz\\AppData\\Local\\Temp\\ipykernel_8988\\211789912.py:1: FutureWarning: Indexing with multiple keys (implicitly converted to a tuple of keys) will be deprecated, use a list instead.\n",
      "  df = df.groupby(\"id\")[\"titel\",\"genre\"].max().reset_index()\n"
     ]
    },
    {
     "data": {
      "text/plain": [
       "(8642, 3)"
      ]
     },
     "execution_count": 31,
     "metadata": {},
     "output_type": "execute_result"
    }
   ],
   "source": [
    "df = df.groupby(\"id\")[\"titel\",\"genre\"].max().reset_index()\n",
    "df.shape"
   ]
  },
  {
   "cell_type": "code",
   "execution_count": 32,
   "id": "e8c82f46",
   "metadata": {},
   "outputs": [
    {
     "data": {
      "text/html": [
       "<div>\n",
       "<style scoped>\n",
       "    .dataframe tbody tr th:only-of-type {\n",
       "        vertical-align: middle;\n",
       "    }\n",
       "\n",
       "    .dataframe tbody tr th {\n",
       "        vertical-align: top;\n",
       "    }\n",
       "\n",
       "    .dataframe thead th {\n",
       "        text-align: right;\n",
       "    }\n",
       "</style>\n",
       "<table border=\"1\" class=\"dataframe\">\n",
       "  <thead>\n",
       "    <tr style=\"text-align: right;\">\n",
       "      <th></th>\n",
       "      <th>id</th>\n",
       "      <th>titel</th>\n",
       "      <th>genre</th>\n",
       "    </tr>\n",
       "  </thead>\n",
       "  <tbody>\n",
       "    <tr>\n",
       "      <th>0</th>\n",
       "      <td>0038p5duwZ3euoTDxmizmF</td>\n",
       "      <td>I Don't Know You</td>\n",
       "      <td>metal</td>\n",
       "    </tr>\n",
       "    <tr>\n",
       "      <th>1</th>\n",
       "      <td>003vvx7Niy0yvhvHt4a68B</td>\n",
       "      <td>Mr. Brightside</td>\n",
       "      <td>rock</td>\n",
       "    </tr>\n",
       "    <tr>\n",
       "      <th>2</th>\n",
       "      <td>009RK7haVVIsa0seuyNSFR</td>\n",
       "      <td>Sous le soleil de Bodega</td>\n",
       "      <td>rock</td>\n",
       "    </tr>\n",
       "    <tr>\n",
       "      <th>3</th>\n",
       "      <td>00CKqQSBhAr2gePvyIzk0P</td>\n",
       "      <td>Even Angels Cry</td>\n",
       "      <td>metal</td>\n",
       "    </tr>\n",
       "    <tr>\n",
       "      <th>4</th>\n",
       "      <td>00FRYCC99BHS1ewIqteTwh</td>\n",
       "      <td>hunger</td>\n",
       "      <td>indie_alt</td>\n",
       "    </tr>\n",
       "  </tbody>\n",
       "</table>\n",
       "</div>"
      ],
      "text/plain": [
       "                       id                     titel      genre\n",
       "0  0038p5duwZ3euoTDxmizmF          I Don't Know You      metal\n",
       "1  003vvx7Niy0yvhvHt4a68B            Mr. Brightside       rock\n",
       "2  009RK7haVVIsa0seuyNSFR  Sous le soleil de Bodega       rock\n",
       "3  00CKqQSBhAr2gePvyIzk0P           Even Angels Cry      metal\n",
       "4  00FRYCC99BHS1ewIqteTwh                    hunger  indie_alt"
      ]
     },
     "execution_count": 32,
     "metadata": {},
     "output_type": "execute_result"
    }
   ],
   "source": [
    "df.head()"
   ]
  },
  {
   "cell_type": "markdown",
   "id": "b599a519",
   "metadata": {},
   "source": [
    "Durch die IDs der einzelnen Lieder lassen sich analytische Informationen zu jedem Lied beschaffen, die von Spotify zur Verfügung gestellt werden. Zu den Informationen gehören unteranderem die Länge, die Tonart, das Tempo und der Anteil an gesprochenen Worten eines Liedes. \n"
   ]
  },
  {
   "cell_type": "code",
   "execution_count": 33,
   "id": "8454c44e",
   "metadata": {},
   "outputs": [
    {
     "name": "stdout",
     "output_type": "stream",
     "text": [
      "Fehlercode: 404\n",
      "Fehlercode: 404\n",
      "CPU times: total: 3min 11s\n",
      "Wall time: 23min 5s\n"
     ]
    }
   ],
   "source": [
    "%%time\n",
    "track_id = df[\"id\"]\n",
    "track_featured_list = []\n",
    "\n",
    "for i in track_id:\n",
    "    url_track_feature = f\"https://api.spotify.com/v1/audio-features/{i}\"\n",
    "    get_track_features = requests.get(url_track_feature,headers=header)\n",
    "    \n",
    "    if get_track_features.status_code != 200:\n",
    "        print(f\"Fehlercode: {get_track_features.status_code}\")\n",
    "        continue\n",
    "    \n",
    "    track_features = get_track_features.json()\n",
    "    \n",
    "    track_features.pop(\"type\",None)\n",
    "    track_features.pop(\"uri\",None)\n",
    "    track_features.pop(\"track_href\",None)\n",
    "    track_features.pop(\"analysis_url\",None)\n",
    "    \n",
    "    track_featured_list.append(track_features)"
   ]
  },
  {
   "cell_type": "markdown",
   "id": "2436c65d",
   "metadata": {},
   "source": [
    "Die Informationen werden erneut in einer Liste zwischengespeichert und anschließend in einer Tabelle umgeformt."
   ]
  },
  {
   "cell_type": "code",
   "execution_count": 34,
   "id": "78914149",
   "metadata": {},
   "outputs": [],
   "source": [
    "df_temp = pd.DataFrame(track_featured_list)"
   ]
  },
  {
   "cell_type": "code",
   "execution_count": 35,
   "id": "03c32091",
   "metadata": {},
   "outputs": [
    {
     "data": {
      "text/html": [
       "<div>\n",
       "<style scoped>\n",
       "    .dataframe tbody tr th:only-of-type {\n",
       "        vertical-align: middle;\n",
       "    }\n",
       "\n",
       "    .dataframe tbody tr th {\n",
       "        vertical-align: top;\n",
       "    }\n",
       "\n",
       "    .dataframe thead th {\n",
       "        text-align: right;\n",
       "    }\n",
       "</style>\n",
       "<table border=\"1\" class=\"dataframe\">\n",
       "  <thead>\n",
       "    <tr style=\"text-align: right;\">\n",
       "      <th></th>\n",
       "      <th>danceability</th>\n",
       "      <th>energy</th>\n",
       "      <th>key</th>\n",
       "      <th>loudness</th>\n",
       "      <th>mode</th>\n",
       "      <th>speechiness</th>\n",
       "      <th>acousticness</th>\n",
       "      <th>instrumentalness</th>\n",
       "      <th>liveness</th>\n",
       "      <th>valence</th>\n",
       "      <th>tempo</th>\n",
       "      <th>id</th>\n",
       "      <th>duration_ms</th>\n",
       "      <th>time_signature</th>\n",
       "    </tr>\n",
       "  </thead>\n",
       "  <tbody>\n",
       "    <tr>\n",
       "      <th>0</th>\n",
       "      <td>0.421</td>\n",
       "      <td>0.949</td>\n",
       "      <td>5</td>\n",
       "      <td>-2.215</td>\n",
       "      <td>0</td>\n",
       "      <td>0.0932</td>\n",
       "      <td>0.000189</td>\n",
       "      <td>0.009940</td>\n",
       "      <td>0.4480</td>\n",
       "      <td>0.270</td>\n",
       "      <td>148.048</td>\n",
       "      <td>0038p5duwZ3euoTDxmizmF</td>\n",
       "      <td>221988</td>\n",
       "      <td>4</td>\n",
       "    </tr>\n",
       "    <tr>\n",
       "      <th>1</th>\n",
       "      <td>0.352</td>\n",
       "      <td>0.911</td>\n",
       "      <td>1</td>\n",
       "      <td>-5.230</td>\n",
       "      <td>1</td>\n",
       "      <td>0.0747</td>\n",
       "      <td>0.001210</td>\n",
       "      <td>0.000000</td>\n",
       "      <td>0.0995</td>\n",
       "      <td>0.236</td>\n",
       "      <td>148.033</td>\n",
       "      <td>003vvx7Niy0yvhvHt4a68B</td>\n",
       "      <td>222973</td>\n",
       "      <td>4</td>\n",
       "    </tr>\n",
       "    <tr>\n",
       "      <th>2</th>\n",
       "      <td>0.668</td>\n",
       "      <td>0.913</td>\n",
       "      <td>5</td>\n",
       "      <td>-4.449</td>\n",
       "      <td>0</td>\n",
       "      <td>0.0573</td>\n",
       "      <td>0.142000</td>\n",
       "      <td>0.000007</td>\n",
       "      <td>0.1400</td>\n",
       "      <td>0.594</td>\n",
       "      <td>102.841</td>\n",
       "      <td>009RK7haVVIsa0seuyNSFR</td>\n",
       "      <td>206893</td>\n",
       "      <td>4</td>\n",
       "    </tr>\n",
       "    <tr>\n",
       "      <th>3</th>\n",
       "      <td>0.563</td>\n",
       "      <td>0.414</td>\n",
       "      <td>10</td>\n",
       "      <td>-10.914</td>\n",
       "      <td>1</td>\n",
       "      <td>0.0270</td>\n",
       "      <td>0.027600</td>\n",
       "      <td>0.000000</td>\n",
       "      <td>0.1550</td>\n",
       "      <td>0.193</td>\n",
       "      <td>132.107</td>\n",
       "      <td>00CKqQSBhAr2gePvyIzk0P</td>\n",
       "      <td>287293</td>\n",
       "      <td>4</td>\n",
       "    </tr>\n",
       "    <tr>\n",
       "      <th>4</th>\n",
       "      <td>0.586</td>\n",
       "      <td>0.740</td>\n",
       "      <td>2</td>\n",
       "      <td>-6.132</td>\n",
       "      <td>1</td>\n",
       "      <td>0.0398</td>\n",
       "      <td>0.311000</td>\n",
       "      <td>0.000353</td>\n",
       "      <td>0.0878</td>\n",
       "      <td>0.473</td>\n",
       "      <td>145.871</td>\n",
       "      <td>00FRYCC99BHS1ewIqteTwh</td>\n",
       "      <td>191297</td>\n",
       "      <td>4</td>\n",
       "    </tr>\n",
       "  </tbody>\n",
       "</table>\n",
       "</div>"
      ],
      "text/plain": [
       "   danceability  energy  key  loudness  mode  speechiness  acousticness  \\\n",
       "0         0.421   0.949    5    -2.215     0       0.0932      0.000189   \n",
       "1         0.352   0.911    1    -5.230     1       0.0747      0.001210   \n",
       "2         0.668   0.913    5    -4.449     0       0.0573      0.142000   \n",
       "3         0.563   0.414   10   -10.914     1       0.0270      0.027600   \n",
       "4         0.586   0.740    2    -6.132     1       0.0398      0.311000   \n",
       "\n",
       "   instrumentalness  liveness  valence    tempo                      id  \\\n",
       "0          0.009940    0.4480    0.270  148.048  0038p5duwZ3euoTDxmizmF   \n",
       "1          0.000000    0.0995    0.236  148.033  003vvx7Niy0yvhvHt4a68B   \n",
       "2          0.000007    0.1400    0.594  102.841  009RK7haVVIsa0seuyNSFR   \n",
       "3          0.000000    0.1550    0.193  132.107  00CKqQSBhAr2gePvyIzk0P   \n",
       "4          0.000353    0.0878    0.473  145.871  00FRYCC99BHS1ewIqteTwh   \n",
       "\n",
       "   duration_ms  time_signature  \n",
       "0       221988               4  \n",
       "1       222973               4  \n",
       "2       206893               4  \n",
       "3       287293               4  \n",
       "4       191297               4  "
      ]
     },
     "execution_count": 35,
     "metadata": {},
     "output_type": "execute_result"
    }
   ],
   "source": [
    "df_temp.head()"
   ]
  },
  {
   "cell_type": "markdown",
   "id": "02312f59",
   "metadata": {},
   "source": [
    "Die Tabelle mit den Liedern zu einem Genre und die Tabelle mit den analytischen Daten zu den Liedern, lassen sich zu einer Tabelle anhand der ID zusammenführen und kann anschließend als CSV-Datei exportiert werden."
   ]
  },
  {
   "cell_type": "code",
   "execution_count": 36,
   "id": "8ec608f0",
   "metadata": {},
   "outputs": [
    {
     "name": "stdout",
     "output_type": "stream",
     "text": [
      "(8642, 3)\n",
      "(8640, 14)\n",
      "(8640, 16)\n"
     ]
    }
   ],
   "source": [
    "df_dump = df.merge(df_temp,on=\"id\",how=\"inner\")\n",
    "print(df.shape)\n",
    "print(df_temp.shape)\n",
    "print(df_dump.shape)"
   ]
  },
  {
   "cell_type": "code",
   "execution_count": 37,
   "id": "10425b85",
   "metadata": {},
   "outputs": [
    {
     "data": {
      "text/plain": [
       "(8640, 16)"
      ]
     },
     "execution_count": 37,
     "metadata": {},
     "output_type": "execute_result"
    }
   ],
   "source": [
    "df_dump = df_dump.drop_duplicates(subset=[\"id\",\"genre\"],ignore_index=True)\n",
    "df_dump.shape"
   ]
  },
  {
   "cell_type": "code",
   "execution_count": 38,
   "id": "cf228ce6",
   "metadata": {},
   "outputs": [],
   "source": [
    "df_dump.to_csv(\"music_data.csv\",index=False)"
   ]
  }
 ],
 "metadata": {
  "kernelspec": {
   "display_name": "pycaretenv-conda",
   "language": "python",
   "name": "pycaretcondaenv"
  },
  "language_info": {
   "codemirror_mode": {
    "name": "ipython",
    "version": 3
   },
   "file_extension": ".py",
   "mimetype": "text/x-python",
   "name": "python",
   "nbconvert_exporter": "python",
   "pygments_lexer": "ipython3",
   "version": "3.8.13"
  }
 },
 "nbformat": 4,
 "nbformat_minor": 5
}
