{
 "cells": [
  {
   "cell_type": "markdown",
   "id": "b4fe8a0a",
   "metadata": {},
   "source": [
    "**Datenerhebung**\n",
    "\n",
    "Die Daten wurden von Spotify erhoben, die diverse Analysedaten zu einer großen Anzahl von Liedern zur Verfügung stellen. Mithilfe einer HTTP-GET kann eine Anfrage an die Server von Spotify geschickt werden und man erhält als Antwort diverse Daten zu den Liedern. Ziel ist einen Datensatz zu erheben mit Liedern, die von Spotify zu einem bestimmten Genre zugeordnet werden. Zusätzlich werden zu jedem Lied, weitere Analyse Daten erhoben. Dadurch soll ein Modell entwickelt werden, welches unbekannten Lieder automatisch zu einem Genre zuordnen kann. "
   ]
  },
  {
   "cell_type": "markdown",
   "id": "bfa0a7a4",
   "metadata": {},
   "source": [
    "Zuerst werden die beiden Module *Pandas* und *Requests* geladen. Pandas dient zur Erstellung und Bearbeitung von Tabellen. Das Requests Modul wird für die HTTP-Anfragen genutzt."
   ]
  },
  {
   "cell_type": "code",
   "execution_count": null,
   "id": "8806a722",
   "metadata": {},
   "outputs": [],
   "source": [
    "import requests\n",
    "import pandas as pd"
   ]
  },
  {
   "cell_type": "markdown",
   "id": "1715a438",
   "metadata": {},
   "source": [
    "Das *header*-Objekt muss immer im header bei den HTTP-Anfragen mitübergeben werden und beinhaltet eine Authentifizierung Token. Der Token wird von Spotify generiert und ist für eine Stunde gültig, bis ein neuer von Spotify generiert werden muss. "
   ]
  },
  {
   "cell_type": "code",
   "execution_count": null,
   "id": "c6c3c4e4",
   "metadata": {},
   "outputs": [],
   "source": [
    "token = \"Bearer BQC78LmLIZDkvkJzjqpsBdGArNlfCxICNMfHtG9EX1TiVgR3LfZ0wrwbbPnVYWCRbL0EMhSfqGGQQTEtqs3pgxuy1GpB-J1B2JhWUvY1UHYFfF5cILmOqEUVBvfy1guVmj6uvkj5piGJBrF3vUzqH1k3Qn34StO9u8z3PWrwFby_M6Y\"\n",
    "header = {\n",
    "    \"Authorization\": token\n",
    "}"
   ]
  },
  {
   "cell_type": "markdown",
   "id": "a741e7dc",
   "metadata": {},
   "source": [
    "Die Spotify API bietet die Möglichkeit, sich Informationen über mehrere Playlisten zu beschaffen, die in einer bestimmten Kategorie fallen. Die Liste *genre* beinhaltet die IDs von den Kategorien, wodurch sich zum Beispiel Informationen abrufen lassen über alle Playlisten, die von Spotify erstellt, die in die Kategorie Pop fallen. Es fällt auf, dass die ID für das Metal Genre anders aufgebaut ist als die anderen IDs der Genres und anstatt aus dem Wort „metal“, aus einer Kombination aus Zahlen und Buchstaben besteht."
   ]
  },
  {
   "cell_type": "code",
   "execution_count": null,
   "id": "45ba6e09",
   "metadata": {},
   "outputs": [],
   "source": [
    "genre = [\"pop\",\"hiphop\",\"edm_dance\",\"rock\",\"party\",\"indie_alt\",\"alternative\",\"0JQ5DAqbMKFDkd668ypn6O\"]"
   ]
  },
  {
   "cell_type": "markdown",
   "id": "4ef583d3",
   "metadata": {},
   "source": [
    "Über eine HTTP-GET anfrage lassen sich weitere Informationen zu den einzelnen Kategorien von Spotify beschaffen [[Kategorien](https://developer.spotify.com/console/get-browse-categories/), Abrufdatum: 11.07.2022]\n"
   ]
  },
  {
   "cell_type": "code",
   "execution_count": null,
   "id": "81480ddd",
   "metadata": {},
   "outputs": [],
   "source": [
    "%%time\n",
    "rows = []\n",
    "for i in genre:\n",
    "    genr = i\n",
    "    \n",
    "    get_playlistID = f\"https://api.spotify.com/v1/browse/categories/{genr}/playlists\"\n",
    "    playlistID = requests.get(get_playlistID,headers=header)\n",
    "    if playlistID.status_code == 200:\n",
    "        playlistID = playlistID.json()\n",
    "        for j in playlistID[\"playlists\"][\"items\"]:\n",
    "            rows.append({\"id\":j[\"id\"],\"name\":j[\"name\"],\"gerne\":i})"
   ]
  },
  {
   "cell_type": "markdown",
   "id": "26699458",
   "metadata": {},
   "source": [
    "Die gesammelten Playlisten lassen sich in einen Datenframe umformen und durch, das Gruppieren nach Genre, lässt sich erkennen, dass zu jedem Genre nahezu gleichviele Playlisten gibt. \n"
   ]
  },
  {
   "cell_type": "code",
   "execution_count": null,
   "id": "7d659934",
   "metadata": {},
   "outputs": [],
   "source": [
    "df = pd.DataFrame(rows)"
   ]
  },
  {
   "cell_type": "code",
   "execution_count": null,
   "id": "08faed34",
   "metadata": {},
   "outputs": [],
   "source": [
    "df.groupby(\"gerne\").size()"
   ]
  },
  {
   "cell_type": "code",
   "execution_count": null,
   "id": "cf3f012e",
   "metadata": {},
   "outputs": [],
   "source": [
    "#Umbennen des Genres für Playlisten in der Kategorie Metal\n",
    "df.loc[df[\"gerne\"] == \"0JQ5DAqbMKFDkd668ypn6O\",\"gerne\"] = \"metal\"\n",
    "df.groupby(\"gerne\").size()"
   ]
  },
  {
   "cell_type": "code",
   "execution_count": null,
   "id": "8953bd18",
   "metadata": {},
   "outputs": [],
   "source": [
    "rows = []\n",
    "#Parameter für die Abfrage, da nur der Titel eines Liedes und die ID von interesse ist\n",
    "params = {\n",
    "    \"fields\" : \"items(track(name,id))\"\n",
    "}"
   ]
  },
  {
   "cell_type": "markdown",
   "id": "e061dabb",
   "metadata": {},
   "source": [
    "Mithelfe der gesammelten Informationen über die Playlisten, lassen sich mit einer weiteren HTTP-GET anfrage Informationen über den Inhalt der Playlisten beschaffen. Die Titel und IDs der Lieder werden wieder in einer Liste zwischengespeichert. Da die Lieder sich immer in einer Playlist zu einem bestimmten Genre befanden, können so die einzelnen Lieder einem Genre zugewiesen werden. "
   ]
  },
  {
   "cell_type": "code",
   "execution_count": null,
   "id": "040579e4",
   "metadata": {},
   "outputs": [],
   "source": [
    "%%time\n",
    "for i in range(0,len(df)):\n",
    "    play_ID = df[\"id\"][i]\n",
    "    url = f\"https://api.spotify.com/v1/playlists/{play_ID}/tracks\"\n",
    "    \n",
    "    #fetchdata\n",
    "    x = requests.get(url,params=params,headers=header)\n",
    "    if x.status_code != 200:\n",
    "        print(f\"Fehlercode: {x.status_code}\")\n",
    "        break\n",
    "    x_dict = x.json()\n",
    "    \n",
    "    #Save Data\n",
    "    for j in x_dict[\"items\"]:\n",
    "        try:\n",
    "            rows.append({\"id\":j[\"track\"][\"id\"],\"titel\":j[\"track\"][\"name\"],\"genre\":df[\"gerne\"][i]})\n",
    "        except TypeError:\n",
    "            pass"
   ]
  },
  {
   "cell_type": "code",
   "execution_count": null,
   "id": "c5d71e5c",
   "metadata": {},
   "outputs": [],
   "source": [
    "df = pd.DataFrame(rows)\n",
    "df.shape"
   ]
  },
  {
   "cell_type": "code",
   "execution_count": null,
   "id": "76436e87",
   "metadata": {},
   "outputs": [],
   "source": [
    "df.head()"
   ]
  },
  {
   "cell_type": "markdown",
   "id": "21468a53",
   "metadata": {},
   "source": [
    "Lieder können sich in mehreren Playlisten befinden, auch zu anderen Genres, können die Lieder nicht eindeutig einem Genre zugewiesen werden. Um die Duplikate zu entfernen und die Lieder eindeutig einem Genre zuzuweisen, wird die Tabelle nach den IDs gruppiert und nach der Häufigkeit des Auftretens in den Genres sortiert. Ein Lied das zum Beispiel in drei Playlisten zum Genre Metal zu finden war und in zwei Playlisten zum Genre Rock, wird so dem Genre Metal zugewiesen."
   ]
  },
  {
   "cell_type": "code",
   "execution_count": null,
   "id": "1540da4f",
   "metadata": {},
   "outputs": [],
   "source": [
    "df = df.groupby(\"id\")[\"titel\",\"genre\"].max().reset_index()\n",
    "df.shape"
   ]
  },
  {
   "cell_type": "code",
   "execution_count": null,
   "id": "e8c82f46",
   "metadata": {},
   "outputs": [],
   "source": [
    "df.head()"
   ]
  },
  {
   "cell_type": "markdown",
   "id": "b599a519",
   "metadata": {},
   "source": [
    "Durch die IDs der einzelnen Lieder lassen sich analytische Informationen zu jedem Lied beschaffen, die von Spotify zur Verfügung gestellt werden. Zu den Informationen gehören unteranderem die Länge, die Tonart, das Tempo und der Anteil an gesprochenen Worten eines Liedes. \n"
   ]
  },
  {
   "cell_type": "code",
   "execution_count": null,
   "id": "8454c44e",
   "metadata": {},
   "outputs": [],
   "source": [
    "%%time\n",
    "track_id = df[\"id\"]\n",
    "track_featured_list = []\n",
    "\n",
    "for i in track_id:\n",
    "    url_track_feature = f\"https://api.spotify.com/v1/audio-features/{i}\"\n",
    "    get_track_features = requests.get(url_track_feature,headers=header)\n",
    "    \n",
    "    if get_track_features.status_code != 200:\n",
    "        print(f\"Fehlercode: {get_track_features.status_code}\")\n",
    "        continue\n",
    "    \n",
    "    track_features = get_track_features.json()\n",
    "    \n",
    "    track_features.pop(\"type\",None)\n",
    "    track_features.pop(\"uri\",None)\n",
    "    track_features.pop(\"track_href\",None)\n",
    "    track_features.pop(\"analysis_url\",None)\n",
    "    \n",
    "    track_featured_list.append(track_features)"
   ]
  },
  {
   "cell_type": "markdown",
   "id": "2436c65d",
   "metadata": {},
   "source": [
    "Die Informationen werden erneut in einer Liste zwischengespeichert und anschließend in einer Tabelle umgeformt."
   ]
  },
  {
   "cell_type": "code",
   "execution_count": null,
   "id": "78914149",
   "metadata": {},
   "outputs": [],
   "source": [
    "df_temp = pd.DataFrame(track_featured_list)"
   ]
  },
  {
   "cell_type": "code",
   "execution_count": null,
   "id": "03c32091",
   "metadata": {},
   "outputs": [],
   "source": [
    "df_temp.head()"
   ]
  },
  {
   "cell_type": "markdown",
   "id": "02312f59",
   "metadata": {},
   "source": [
    "Die Tabelle mit den Liedern zu einem Genre und die Tabelle mit den analytischen Daten zu den Liedern, lassen sich zu einer Tabelle anhand der ID zusammenführen und kann anschließend als CSV-Datei exportiert werden."
   ]
  },
  {
   "cell_type": "code",
   "execution_count": null,
   "id": "8ec608f0",
   "metadata": {},
   "outputs": [],
   "source": [
    "df_dump = df.merge(df_temp,on=\"id\",how=\"inner\")\n",
    "print(df.shape)\n",
    "print(df_temp.shape)\n",
    "print(df_dump.shape)"
   ]
  },
  {
   "cell_type": "code",
   "execution_count": null,
   "id": "10425b85",
   "metadata": {},
   "outputs": [],
   "source": [
    "df_dump = df_dump.drop_duplicates(subset=[\"id\",\"genre\"],ignore_index=True)\n",
    "df_dump.shape"
   ]
  },
  {
   "cell_type": "code",
   "execution_count": null,
   "id": "cf228ce6",
   "metadata": {},
   "outputs": [],
   "source": [
    "df_dump.to_csv(\"music_data.csv\",index=False)"
   ]
  }
 ],
 "metadata": {
  "kernelspec": {
   "display_name": "pycaretenv-conda",
   "language": "python",
   "name": "pycaretcondaenv"
  },
  "language_info": {
   "codemirror_mode": {
    "name": "ipython",
    "version": 3
   },
   "file_extension": ".py",
   "mimetype": "text/x-python",
   "name": "python",
   "nbconvert_exporter": "python",
   "pygments_lexer": "ipython3",
   "version": "3.8.13"
  }
 },
 "nbformat": 4,
 "nbformat_minor": 5
}
