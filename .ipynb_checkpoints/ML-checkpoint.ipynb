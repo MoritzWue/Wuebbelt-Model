{
 "cells": [
  {
   "cell_type": "markdown",
   "id": "11c014d1",
   "metadata": {},
   "source": [
    "**Analysebericht: Genre Klassifikation von Liedern**\n",
    "\n",
    "Spotify gehört zu einem der größten Audio-Streaming Anbietern weltweit und bietet eine große Auswahl an Musik. Damit jeder Nutzer die passende Musik zu seinem Geschmack findet, bietet Spotify zu diversen Musikgenres eine Auswahl von generierten Playlisten an. Zusätzlich bietet Spotify die Möglichkeit an, zu jedem Lied sich analytische Daten abzufragen. \n",
    "\n",
    "Ziel dieses Berichtes ist es, ein Modell zu entwickeln, welches anhand der analytischen Daten eines Liedes, dieses einem Genre zuordnen kann. Für die Erhebung der Daten wurde ein Python Skript geschrieben, welches die nötigen Informationen von Spotify abgreift und in einer CSV-Datei speichert (siehe **fetchdata.ipynb** für weitere Informationen)."
   ]
  },
  {
   "cell_type": "markdown",
   "id": "afe00343",
   "metadata": {},
   "source": [
    "**Multiclass Classification**\n",
    "\n",
    "Die Lieder sollen anhand ihrer Analysedaten einem Genre zugeordnet werden. Da es mehr als zwei Genres gibt, handelt es sich um Modell der Multiclass Classification. Dies ist eine Technik des überwachten maschinellen lernen. "
   ]
  },
  {
   "cell_type": "markdown",
   "id": "1594ccfc",
   "metadata": {},
   "source": [
    "**Voreinstellung**\n",
    "\n",
    "Falls nötig muss zuerst das Modul PyCaret installiert werden und Falls das Programm in Google Colab ausgeführt werden soll, muss dies auch erst aktiviert werden. Anschließend werden die nötigen Module *pandas*, *numpy* und *pyplot* geladen. "
   ]
  },
  {
   "cell_type": "code",
   "execution_count": 1,
   "id": "84415d7b",
   "metadata": {},
   "outputs": [],
   "source": [
    "#Installierung für Pycaret\n",
    "#pip install pycaret\n",
    "#für Google Colab \n",
    "#!pip install pycaret"
   ]
  },
  {
   "cell_type": "code",
   "execution_count": 2,
   "id": "81680029",
   "metadata": {},
   "outputs": [],
   "source": [
    "#für Google Colab \n",
    "#from pycaret.utils import enable_colab\n",
    "#enable_colab()"
   ]
  },
  {
   "cell_type": "code",
   "execution_count": 3,
   "id": "de8fc832",
   "metadata": {},
   "outputs": [],
   "source": [
    "import pandas as pd\n",
    "import numpy as np\n",
    "import matplotlib.pyplot as plt"
   ]
  },
  {
   "cell_type": "markdown",
   "id": "2e8c163d",
   "metadata": {},
   "source": [
    "**Datensatz**\n",
    "\n",
    "Wie bereits erwähnt wurde der Datensatz selbst erhoben mit der Hilfe eines Python Skriptes. Die Daten wurden dabei von Spotify zur Verfügung gestellt. Der Datensatz beinhaltet 9416 Einträge mit Spalten. Die Zielvariable *genre* besitzt dabei acht verschiedene Ausprägungen.\n",
    "\n",
    "Beschreibung aller Spalten [[Quelle 1](https://developer.spotify.com/documentation/web-api/reference/%23/operations/get-audio-features), Abruf am 11.07.2022]:\n",
    "\n",
    "- **Id:** Eindeutige ID eines Liedes\n",
    "- **Titel:** Der Musiktitel eines Liedes\n",
    "- **Genre:** Das Genre eines Liedes\n",
    "- **Danceability:** beschreibt wie geeignet ein Lied zum Tanzen ist, basierend auf einer Kombination aus musikalischen Elementen wie Tempo oder Rhythmusstabilität. Bei 0 eignet sich das Lied am wenigsten zum Tanzen, bei 1 ist der Wert maximal.\n",
    "- **Energy:** Stellt ein Maß für die Intensität und Aktivität da. Bei 0 ist der Wert minimal und bei 1 maximal \n",
    "- **Key:** Gibt die Tonart eines Liedes an, kodiert als Zahl. Beispiel: 0 = C, 1 = C#, 2 = D, und so weiter. Bei einem Wert von -1 konnte keine Tonart festgestellt werden\n",
    "- **Loudness:** beschreibt die Gesamtlautstärke eines Liedes in Dezibel. Der Wert wird über das Gesamte Lied gemittelt. Die Werte liegen typischerweise zwischen -60 und 0.\n",
    "- Mode: Gibt die Modalität eines Liedes an (Dur = 1 und Moll = 0). \n",
    "- **Speechiness:** Beschreibt das Vorhandensein von gesprochenen Wörtern eines Liedes. Ab einen Wert von 0,66 handelt es sich wahrscheinlich um ein Werk in dem ausschließlich gesprochen wird zum Beispiel ein Hörbuch.\n",
    "- **Acousticness:** Ein Intervall zwischen 0 und 1, ob das Lied akustisch ist. Je näher der Wert an 1, desto höher ist die Wahrscheinlichkeit. \n",
    "- **Instrumentalness:** Beschreibt, ob das Lied Gesang enthält. Je näher der Wert an 1 liegt, desto größer ist die Wahrscheinlichkeit, dass das Lied keinen Gesang enthält** \n",
    "- **Liveness:** Beschreibt, ob das Lied live aufgenommen wurde oder in einem Studio. Je höher der Wert ist, desto größer ist Wahrscheinlichkeit, dass das Lied live aufgenommen wurde\n",
    "- **Valence:** Beschreibt die Positivität eines Liedes. Je näher der Wert an 1 ist, desto fröhlicher kling das Lied, während es bei 0 eher trauriger klingt.\n",
    "- **Tempo:** Beschreibt das Tempo eines Liedes in Beats pro Minute (BPM).\n",
    "- **Duration\\_ms:** Beschreibt die Länge eines Liedes in Millisekunden.\n",
    "- **Time\\_signature:** Beschreibt den Takt eines Liedes und wie viele schläge in jedem Takt sind. Der wert geht von 3 bis 7 (3/4 Takt bis 7/4 Takt)."
   ]
  },
  {
   "cell_type": "code",
   "execution_count": 4,
   "id": "e5a4f8d1",
   "metadata": {},
   "outputs": [
    {
     "name": "stdout",
     "output_type": "stream",
     "text": [
      "<class 'pandas.core.frame.DataFrame'>\n",
      "RangeIndex: 9416 entries, 0 to 9415\n",
      "Data columns (total 16 columns):\n",
      " #   Column            Non-Null Count  Dtype  \n",
      "---  ------            --------------  -----  \n",
      " 0   id                9416 non-null   object \n",
      " 1   titel             9415 non-null   object \n",
      " 2   genre             9416 non-null   object \n",
      " 3   danceability      9416 non-null   float64\n",
      " 4   energy            9416 non-null   float64\n",
      " 5   key               9416 non-null   int64  \n",
      " 6   loudness          9416 non-null   float64\n",
      " 7   mode              9416 non-null   int64  \n",
      " 8   speechiness       9416 non-null   float64\n",
      " 9   acousticness      9416 non-null   float64\n",
      " 10  instrumentalness  9416 non-null   float64\n",
      " 11  liveness          9416 non-null   float64\n",
      " 12  valence           9416 non-null   float64\n",
      " 13  tempo             9416 non-null   float64\n",
      " 14  duration_ms       9416 non-null   int64  \n",
      " 15  time_signature    9416 non-null   int64  \n",
      "dtypes: float64(9), int64(4), object(3)\n",
      "memory usage: 1.1+ MB\n"
     ]
    }
   ],
   "source": [
    "df = pd.read_csv(\"music.CSV\")\n",
    "df.info()"
   ]
  },
  {
   "cell_type": "code",
   "execution_count": 5,
   "id": "aeeaf230",
   "metadata": {},
   "outputs": [
    {
     "data": {
      "text/html": [
       "<div>\n",
       "<style scoped>\n",
       "    .dataframe tbody tr th:only-of-type {\n",
       "        vertical-align: middle;\n",
       "    }\n",
       "\n",
       "    .dataframe tbody tr th {\n",
       "        vertical-align: top;\n",
       "    }\n",
       "\n",
       "    .dataframe thead th {\n",
       "        text-align: right;\n",
       "    }\n",
       "</style>\n",
       "<table border=\"1\" class=\"dataframe\">\n",
       "  <thead>\n",
       "    <tr style=\"text-align: right;\">\n",
       "      <th></th>\n",
       "      <th>id</th>\n",
       "      <th>titel</th>\n",
       "      <th>genre</th>\n",
       "      <th>danceability</th>\n",
       "      <th>energy</th>\n",
       "      <th>key</th>\n",
       "      <th>loudness</th>\n",
       "      <th>mode</th>\n",
       "      <th>speechiness</th>\n",
       "      <th>acousticness</th>\n",
       "      <th>instrumentalness</th>\n",
       "      <th>liveness</th>\n",
       "      <th>valence</th>\n",
       "      <th>tempo</th>\n",
       "      <th>duration_ms</th>\n",
       "      <th>time_signature</th>\n",
       "    </tr>\n",
       "  </thead>\n",
       "  <tbody>\n",
       "    <tr>\n",
       "      <th>0</th>\n",
       "      <td>001U2oRRZXrLbeOJMduXSc</td>\n",
       "      <td>PAPARAZZI</td>\n",
       "      <td>party</td>\n",
       "      <td>0.841</td>\n",
       "      <td>0.558</td>\n",
       "      <td>4</td>\n",
       "      <td>-5.028</td>\n",
       "      <td>1</td>\n",
       "      <td>0.1880</td>\n",
       "      <td>0.128000</td>\n",
       "      <td>0.003610</td>\n",
       "      <td>0.1020</td>\n",
       "      <td>0.516</td>\n",
       "      <td>75.005</td>\n",
       "      <td>148000</td>\n",
       "      <td>4</td>\n",
       "    </tr>\n",
       "    <tr>\n",
       "      <th>1</th>\n",
       "      <td>003vvx7Niy0yvhvHt4a68B</td>\n",
       "      <td>Mr. Brightside</td>\n",
       "      <td>rock</td>\n",
       "      <td>0.352</td>\n",
       "      <td>0.911</td>\n",
       "      <td>1</td>\n",
       "      <td>-5.230</td>\n",
       "      <td>1</td>\n",
       "      <td>0.0747</td>\n",
       "      <td>0.001210</td>\n",
       "      <td>0.000000</td>\n",
       "      <td>0.0995</td>\n",
       "      <td>0.236</td>\n",
       "      <td>148.033</td>\n",
       "      <td>222973</td>\n",
       "      <td>4</td>\n",
       "    </tr>\n",
       "    <tr>\n",
       "      <th>2</th>\n",
       "      <td>00FRYCC99BHS1ewIqteTwh</td>\n",
       "      <td>hunger</td>\n",
       "      <td>indie_alt</td>\n",
       "      <td>0.586</td>\n",
       "      <td>0.740</td>\n",
       "      <td>2</td>\n",
       "      <td>-6.132</td>\n",
       "      <td>1</td>\n",
       "      <td>0.0398</td>\n",
       "      <td>0.311000</td>\n",
       "      <td>0.000353</td>\n",
       "      <td>0.0878</td>\n",
       "      <td>0.473</td>\n",
       "      <td>145.871</td>\n",
       "      <td>191297</td>\n",
       "      <td>4</td>\n",
       "    </tr>\n",
       "    <tr>\n",
       "      <th>3</th>\n",
       "      <td>00OQVltax4uGNaXHfAlj2Y</td>\n",
       "      <td>Honey</td>\n",
       "      <td>alternative</td>\n",
       "      <td>0.434</td>\n",
       "      <td>0.758</td>\n",
       "      <td>1</td>\n",
       "      <td>-9.313</td>\n",
       "      <td>1</td>\n",
       "      <td>0.0346</td>\n",
       "      <td>0.000109</td>\n",
       "      <td>0.110000</td>\n",
       "      <td>0.2090</td>\n",
       "      <td>0.245</td>\n",
       "      <td>100.030</td>\n",
       "      <td>183642</td>\n",
       "      <td>4</td>\n",
       "    </tr>\n",
       "    <tr>\n",
       "      <th>4</th>\n",
       "      <td>00QhDAu0EO28Knjq4C3Nhk</td>\n",
       "      <td>Vergessen</td>\n",
       "      <td>rock</td>\n",
       "      <td>0.558</td>\n",
       "      <td>0.829</td>\n",
       "      <td>6</td>\n",
       "      <td>-5.426</td>\n",
       "      <td>1</td>\n",
       "      <td>0.0354</td>\n",
       "      <td>0.001930</td>\n",
       "      <td>0.000031</td>\n",
       "      <td>0.5160</td>\n",
       "      <td>0.961</td>\n",
       "      <td>160.031</td>\n",
       "      <td>141022</td>\n",
       "      <td>4</td>\n",
       "    </tr>\n",
       "  </tbody>\n",
       "</table>\n",
       "</div>"
      ],
      "text/plain": [
       "                       id           titel        genre  danceability  energy  \\\n",
       "0  001U2oRRZXrLbeOJMduXSc       PAPARAZZI        party         0.841   0.558   \n",
       "1  003vvx7Niy0yvhvHt4a68B  Mr. Brightside         rock         0.352   0.911   \n",
       "2  00FRYCC99BHS1ewIqteTwh          hunger    indie_alt         0.586   0.740   \n",
       "3  00OQVltax4uGNaXHfAlj2Y           Honey  alternative         0.434   0.758   \n",
       "4  00QhDAu0EO28Knjq4C3Nhk       Vergessen         rock         0.558   0.829   \n",
       "\n",
       "   key  loudness  mode  speechiness  acousticness  instrumentalness  liveness  \\\n",
       "0    4    -5.028     1       0.1880      0.128000          0.003610    0.1020   \n",
       "1    1    -5.230     1       0.0747      0.001210          0.000000    0.0995   \n",
       "2    2    -6.132     1       0.0398      0.311000          0.000353    0.0878   \n",
       "3    1    -9.313     1       0.0346      0.000109          0.110000    0.2090   \n",
       "4    6    -5.426     1       0.0354      0.001930          0.000031    0.5160   \n",
       "\n",
       "   valence    tempo  duration_ms  time_signature  \n",
       "0    0.516   75.005       148000               4  \n",
       "1    0.236  148.033       222973               4  \n",
       "2    0.473  145.871       191297               4  \n",
       "3    0.245  100.030       183642               4  \n",
       "4    0.961  160.031       141022               4  "
      ]
     },
     "execution_count": 5,
     "metadata": {},
     "output_type": "execute_result"
    }
   ],
   "source": [
    "df.head()"
   ]
  },
  {
   "cell_type": "code",
   "execution_count": 6,
   "id": "1c4e60fb",
   "metadata": {},
   "outputs": [],
   "source": [
    "# Decodierung der Werte für die Variable \"Key\"\n",
    "df.loc[df[\"key\"]==-1,\"key\"] = None\n",
    "df.loc[df[\"key\"]==0,\"key\"] = \"C\"\n",
    "df.loc[df[\"key\"]==1,\"key\"] = \"C#\"\n",
    "df.loc[df[\"key\"]==2,\"key\"] = \"D\"\n",
    "df.loc[df[\"key\"]==3,\"key\"] = \"D#\"\n",
    "df.loc[df[\"key\"]==4,\"key\"] = \"E\"\n",
    "df.loc[df[\"key\"]==5,\"key\"] = \"F\"\n",
    "df.loc[df[\"key\"]==6,\"key\"] = \"F#\"\n",
    "df.loc[df[\"key\"]==7,\"key\"] = \"G\"\n",
    "df.loc[df[\"key\"]==8,\"key\"] = \"G#\"\n",
    "df.loc[df[\"key\"]==9,\"key\"] = \"A\"\n",
    "df.loc[df[\"key\"]==10,\"key\"] = \"Bb\"\n",
    "df.loc[df[\"key\"]==11,\"key\"] = \"B\""
   ]
  },
  {
   "cell_type": "markdown",
   "id": "7009be06",
   "metadata": {},
   "source": [
    "Anhand der Gruppierung der Daten nach dem Genre, lässt sich erkenne, dass die Daten nicht ausbalanciert sind. Es gibt es viel weniger Lieder, die mit dem Genre Hip-Hop klassifiziert wurden, als Lieder im Genre Rock. Das bedeutet die einzelnen Klassen, können nicht gleichmäßig repräsentiert werden."
   ]
  },
  {
   "cell_type": "code",
   "execution_count": 7,
   "id": "5adec1ad",
   "metadata": {},
   "outputs": [
    {
     "data": {
      "text/plain": [
       "genre\n",
       "alternative    1191\n",
       "edm_dance      1195\n",
       "hiphop          847\n",
       "indie_alt      1328\n",
       "metal          1332\n",
       "party          1087\n",
       "pop            1012\n",
       "rock           1424\n",
       "dtype: int64"
      ]
     },
     "execution_count": 7,
     "metadata": {},
     "output_type": "execute_result"
    }
   ],
   "source": [
    "df.groupby(\"genre\").size()"
   ]
  },
  {
   "cell_type": "code",
   "execution_count": 8,
   "id": "8421cb6e",
   "metadata": {},
   "outputs": [
    {
     "data": {
      "text/plain": [
       "<AxesSubplot:title={'center':'Anzahl der Lieder pro Genre'}, xlabel='Genre', ylabel='Anzahl'>"
      ]
     },
     "execution_count": 8,
     "metadata": {},
     "output_type": "execute_result"
    },
    {
     "data": {
      "image/png": "[encoded data removed]",
      "text/plain": [
       "<Figure size 432x360 with 1 Axes>"
      ]
     },
     "metadata": {
      "needs_background": "light"
     },
     "output_type": "display_data"
    }
   ],
   "source": [
    "genres = df.groupby(\"genre\").size()\n",
    "genres.plot(kind=\"bar\",title=\"Anzahl der Lieder pro Genre\",ylabel=\"Anzahl\",xlabel=\"Genre\",figsize=(6,5))"
   ]
  },
  {
   "cell_type": "code",
   "execution_count": 9,
   "id": "43eb9dc6",
   "metadata": {},
   "outputs": [],
   "source": [
    "#Aufspliten des Datensatzes in Daten die für Training genutzt werden und die fürs Testen verwendet werde\n",
    "def split_data(df):\n",
    "    \n",
    "    data = df.sample(frac=0.9, random_state=786)\n",
    "    data_unseen = df.drop(data.index)\n",
    "\n",
    "    data.reset_index(drop=True, inplace=True)\n",
    "    data_unseen.reset_index(drop=True, inplace=True)\n",
    "\n",
    "    print('Data for Modeling: ' + str(data.shape))\n",
    "    print('Unseen Data For Predictions: ' + str(data_unseen.shape))\n",
    "    return (data,data_unseen)"
   ]
  },
  {
   "cell_type": "code",
   "execution_count": 10,
   "id": "3382dd1a",
   "metadata": {},
   "outputs": [
    {
     "name": "stdout",
     "output_type": "stream",
     "text": [
      "Data for Modeling: (8474, 16)\n",
      "Unseen Data For Predictions: (942, 16)\n"
     ]
    }
   ],
   "source": [
    "data, data_unseen = split_data(df)"
   ]
  },
  {
   "cell_type": "markdown",
   "id": "2b098fe1",
   "metadata": {},
   "source": [
    "*Einstellen von PyCaret** \n",
    "\n",
    "Um das Modell später validieren zu können, wird der Datensatz zufällig aufgeteilt. 90% der Daten werden für das Trainieren des Modelles genutzt und die restlichen 10% der Daten werden später für die vorhersage genutzt. Dazu wurde die Funktion *split\\_data* geschrieben, zum Aufteilen eines Dataframes.\n",
    "\n",
    "Die *setup()* Funktion initialisiert die PyCaret Umgebung und erstellt automatisch eine pipeline für die Daten, damit sie zur Modellierung genutzt werden können. Die Funktion benötigt zwingend den Datensatz und die Zielvariable als Parameter. Hier ist die Zielvariable *genre***.** Zusätzlich wird eine *session\\_id* mitübergeben, damit das Modell reproduziert werden kann. Außerdem sollen die Variablen *ID* und *Titel* nicht für die Modellierung genutzt werden, da diese Variablen nur für die Zuordnung des Liedes verantwortlich ist und sie keinen Nährwert für die Analyse geben. Dadurch kann die Performance des Modelles verbessert werden. Da die Daten nicht ausbalanciert sind, wird zusätzlich angegeben, dass PyCaret sich um das Problem kümmern soll. PyCaret erstellt synthetische Daten, aus den unter repräsentativeren Daten, um den Datensatz auszubalancieren. \n",
    "\n",
    "Nach dem Setup hat PyCaret die Features ihren Skalen zugeteilt und die Kategorischen Variablen encoded. Außerdem wurden die Daten Transformiert und in einen Trainingsdatensatz und einem Testdatensatz aufgeteilt."
   ]
  },
  {
   "cell_type": "code",
   "execution_count": 11,
   "id": "3ad2c321",
   "metadata": {},
   "outputs": [],
   "source": [
    "from pycaret.classification import *"
   ]
  },
  {
   "cell_type": "code",
   "execution_count": 12,
   "id": "e8e62492",
   "metadata": {},
   "outputs": [
    {
     "data": {
      "text/html": [
       "<style type=\"text/css\">\n",
       "#T_36e2c_row44_col1, #T_36e2c_row58_col1 {\n",
       "  background-color: lightgreen;\n",
       "}\n",
       "</style>\n",
       "<table id=\"T_36e2c\">\n",
       "  <thead>\n",
       "    <tr>\n",
       "      <th class=\"blank level0\" >&nbsp;</th>\n",
       "      <th id=\"T_36e2c_level0_col0\" class=\"col_heading level0 col0\" >Description</th>\n",
       "      <th id=\"T_36e2c_level0_col1\" class=\"col_heading level0 col1\" >Value</th>\n",
       "    </tr>\n",
       "  </thead>\n",
       "  <tbody>\n",
       "    <tr>\n",
       "      <th id=\"T_36e2c_level0_row0\" class=\"row_heading level0 row0\" >0</th>\n",
       "      <td id=\"T_36e2c_row0_col0\" class=\"data row0 col0\" >session_id</td>\n",
       "      <td id=\"T_36e2c_row0_col1\" class=\"data row0 col1\" >21</td>\n",
       "    </tr>\n",
       "    <tr>\n",
       "      <th id=\"T_36e2c_level0_row1\" class=\"row_heading level0 row1\" >1</th>\n",
       "      <td id=\"T_36e2c_row1_col0\" class=\"data row1 col0\" >Target</td>\n",
       "      <td id=\"T_36e2c_row1_col1\" class=\"data row1 col1\" >genre</td>\n",
       "    </tr>\n",
       "    <tr>\n",
       "      <th id=\"T_36e2c_level0_row2\" class=\"row_heading level0 row2\" >2</th>\n",
       "      <td id=\"T_36e2c_row2_col0\" class=\"data row2 col0\" >Target Type</td>\n",
       "      <td id=\"T_36e2c_row2_col1\" class=\"data row2 col1\" >Multiclass</td>\n",
       "    </tr>\n",
       "    <tr>\n",
       "      <th id=\"T_36e2c_level0_row3\" class=\"row_heading level0 row3\" >3</th>\n",
       "      <td id=\"T_36e2c_row3_col0\" class=\"data row3 col0\" >Label Encoded</td>\n",
       "      <td id=\"T_36e2c_row3_col1\" class=\"data row3 col1\" >alternative: 0, edm_dance: 1, hiphop: 2, indie_alt: 3, metal: 4, party: 5, pop: 6, rock: 7</td>\n",
       "    </tr>\n",
       "    <tr>\n",
       "      <th id=\"T_36e2c_level0_row4\" class=\"row_heading level0 row4\" >4</th>\n",
       "      <td id=\"T_36e2c_row4_col0\" class=\"data row4 col0\" >Original Data</td>\n",
       "      <td id=\"T_36e2c_row4_col1\" class=\"data row4 col1\" >(8474, 16)</td>\n",
       "    </tr>\n",
       "    <tr>\n",
       "      <th id=\"T_36e2c_level0_row5\" class=\"row_heading level0 row5\" >5</th>\n",
       "      <td id=\"T_36e2c_row5_col0\" class=\"data row5 col0\" >Missing Values</td>\n",
       "      <td id=\"T_36e2c_row5_col1\" class=\"data row5 col1\" >False</td>\n",
       "    </tr>\n",
       "    <tr>\n",
       "      <th id=\"T_36e2c_level0_row6\" class=\"row_heading level0 row6\" >6</th>\n",
       "      <td id=\"T_36e2c_row6_col0\" class=\"data row6 col0\" >Numeric Features</td>\n",
       "      <td id=\"T_36e2c_row6_col1\" class=\"data row6 col1\" >10</td>\n",
       "    </tr>\n",
       "    <tr>\n",
       "      <th id=\"T_36e2c_level0_row7\" class=\"row_heading level0 row7\" >7</th>\n",
       "      <td id=\"T_36e2c_row7_col0\" class=\"data row7 col0\" >Categorical Features</td>\n",
       "      <td id=\"T_36e2c_row7_col1\" class=\"data row7 col1\" >3</td>\n",
       "    </tr>\n",
       "    <tr>\n",
       "      <th id=\"T_36e2c_level0_row8\" class=\"row_heading level0 row8\" >8</th>\n",
       "      <td id=\"T_36e2c_row8_col0\" class=\"data row8 col0\" >Ordinal Features</td>\n",
       "      <td id=\"T_36e2c_row8_col1\" class=\"data row8 col1\" >False</td>\n",
       "    </tr>\n",
       "    <tr>\n",
       "      <th id=\"T_36e2c_level0_row9\" class=\"row_heading level0 row9\" >9</th>\n",
       "      <td id=\"T_36e2c_row9_col0\" class=\"data row9 col0\" >High Cardinality Features</td>\n",
       "      <td id=\"T_36e2c_row9_col1\" class=\"data row9 col1\" >False</td>\n",
       "    </tr>\n",
       "    <tr>\n",
       "      <th id=\"T_36e2c_level0_row10\" class=\"row_heading level0 row10\" >10</th>\n",
       "      <td id=\"T_36e2c_row10_col0\" class=\"data row10 col0\" >High Cardinality Method</td>\n",
       "      <td id=\"T_36e2c_row10_col1\" class=\"data row10 col1\" >None</td>\n",
       "    </tr>\n",
       "    <tr>\n",
       "      <th id=\"T_36e2c_level0_row11\" class=\"row_heading level0 row11\" >11</th>\n",
       "      <td id=\"T_36e2c_row11_col0\" class=\"data row11 col0\" >Transformed Train Set</td>\n",
       "      <td id=\"T_36e2c_row11_col1\" class=\"data row11 col1\" >(5931, 27)</td>\n",
       "    </tr>\n",
       "    <tr>\n",
       "      <th id=\"T_36e2c_level0_row12\" class=\"row_heading level0 row12\" >12</th>\n",
       "      <td id=\"T_36e2c_row12_col0\" class=\"data row12 col0\" >Transformed Test Set</td>\n",
       "      <td id=\"T_36e2c_row12_col1\" class=\"data row12 col1\" >(2543, 27)</td>\n",
       "    </tr>\n",
       "    <tr>\n",
       "      <th id=\"T_36e2c_level0_row13\" class=\"row_heading level0 row13\" >13</th>\n",
       "      <td id=\"T_36e2c_row13_col0\" class=\"data row13 col0\" >Shuffle Train-Test</td>\n",
       "      <td id=\"T_36e2c_row13_col1\" class=\"data row13 col1\" >True</td>\n",
       "    </tr>\n",
       "    <tr>\n",
       "      <th id=\"T_36e2c_level0_row14\" class=\"row_heading level0 row14\" >14</th>\n",
       "      <td id=\"T_36e2c_row14_col0\" class=\"data row14 col0\" >Stratify Train-Test</td>\n",
       "      <td id=\"T_36e2c_row14_col1\" class=\"data row14 col1\" >False</td>\n",
       "    </tr>\n",
       "    <tr>\n",
       "      <th id=\"T_36e2c_level0_row15\" class=\"row_heading level0 row15\" >15</th>\n",
       "      <td id=\"T_36e2c_row15_col0\" class=\"data row15 col0\" >Fold Generator</td>\n",
       "      <td id=\"T_36e2c_row15_col1\" class=\"data row15 col1\" >StratifiedKFold</td>\n",
       "    </tr>\n",
       "    <tr>\n",
       "      <th id=\"T_36e2c_level0_row16\" class=\"row_heading level0 row16\" >16</th>\n",
       "      <td id=\"T_36e2c_row16_col0\" class=\"data row16 col0\" >Fold Number</td>\n",
       "      <td id=\"T_36e2c_row16_col1\" class=\"data row16 col1\" >10</td>\n",
       "    </tr>\n",
       "    <tr>\n",
       "      <th id=\"T_36e2c_level0_row17\" class=\"row_heading level0 row17\" >17</th>\n",
       "      <td id=\"T_36e2c_row17_col0\" class=\"data row17 col0\" >CPU Jobs</td>\n",
       "      <td id=\"T_36e2c_row17_col1\" class=\"data row17 col1\" >-1</td>\n",
       "    </tr>\n",
       "    <tr>\n",
       "      <th id=\"T_36e2c_level0_row18\" class=\"row_heading level0 row18\" >18</th>\n",
       "      <td id=\"T_36e2c_row18_col0\" class=\"data row18 col0\" >Use GPU</td>\n",
       "      <td id=\"T_36e2c_row18_col1\" class=\"data row18 col1\" >False</td>\n",
       "    </tr>\n",
       "    <tr>\n",
       "      <th id=\"T_36e2c_level0_row19\" class=\"row_heading level0 row19\" >19</th>\n",
       "      <td id=\"T_36e2c_row19_col0\" class=\"data row19 col0\" >Log Experiment</td>\n",
       "      <td id=\"T_36e2c_row19_col1\" class=\"data row19 col1\" >False</td>\n",
       "    </tr>\n",
       "    <tr>\n",
       "      <th id=\"T_36e2c_level0_row20\" class=\"row_heading level0 row20\" >20</th>\n",
       "      <td id=\"T_36e2c_row20_col0\" class=\"data row20 col0\" >Experiment Name</td>\n",
       "      <td id=\"T_36e2c_row20_col1\" class=\"data row20 col1\" >clf-default-name</td>\n",
       "    </tr>\n",
       "    <tr>\n",
       "      <th id=\"T_36e2c_level0_row21\" class=\"row_heading level0 row21\" >21</th>\n",
       "      <td id=\"T_36e2c_row21_col0\" class=\"data row21 col0\" >USI</td>\n",
       "      <td id=\"T_36e2c_row21_col1\" class=\"data row21 col1\" >c1cb</td>\n",
       "    </tr>\n",
       "    <tr>\n",
       "      <th id=\"T_36e2c_level0_row22\" class=\"row_heading level0 row22\" >22</th>\n",
       "      <td id=\"T_36e2c_row22_col0\" class=\"data row22 col0\" >Imputation Type</td>\n",
       "      <td id=\"T_36e2c_row22_col1\" class=\"data row22 col1\" >simple</td>\n",
       "    </tr>\n",
       "    <tr>\n",
       "      <th id=\"T_36e2c_level0_row23\" class=\"row_heading level0 row23\" >23</th>\n",
       "      <td id=\"T_36e2c_row23_col0\" class=\"data row23 col0\" >Iterative Imputation Iteration</td>\n",
       "      <td id=\"T_36e2c_row23_col1\" class=\"data row23 col1\" >None</td>\n",
       "    </tr>\n",
       "    <tr>\n",
       "      <th id=\"T_36e2c_level0_row24\" class=\"row_heading level0 row24\" >24</th>\n",
       "      <td id=\"T_36e2c_row24_col0\" class=\"data row24 col0\" >Numeric Imputer</td>\n",
       "      <td id=\"T_36e2c_row24_col1\" class=\"data row24 col1\" >mean</td>\n",
       "    </tr>\n",
       "    <tr>\n",
       "      <th id=\"T_36e2c_level0_row25\" class=\"row_heading level0 row25\" >25</th>\n",
       "      <td id=\"T_36e2c_row25_col0\" class=\"data row25 col0\" >Iterative Imputation Numeric Model</td>\n",
       "      <td id=\"T_36e2c_row25_col1\" class=\"data row25 col1\" >None</td>\n",
       "    </tr>\n",
       "    <tr>\n",
       "      <th id=\"T_36e2c_level0_row26\" class=\"row_heading level0 row26\" >26</th>\n",
       "      <td id=\"T_36e2c_row26_col0\" class=\"data row26 col0\" >Categorical Imputer</td>\n",
       "      <td id=\"T_36e2c_row26_col1\" class=\"data row26 col1\" >constant</td>\n",
       "    </tr>\n",
       "    <tr>\n",
       "      <th id=\"T_36e2c_level0_row27\" class=\"row_heading level0 row27\" >27</th>\n",
       "      <td id=\"T_36e2c_row27_col0\" class=\"data row27 col0\" >Iterative Imputation Categorical Model</td>\n",
       "      <td id=\"T_36e2c_row27_col1\" class=\"data row27 col1\" >None</td>\n",
       "    </tr>\n",
       "    <tr>\n",
       "      <th id=\"T_36e2c_level0_row28\" class=\"row_heading level0 row28\" >28</th>\n",
       "      <td id=\"T_36e2c_row28_col0\" class=\"data row28 col0\" >Unknown Categoricals Handling</td>\n",
       "      <td id=\"T_36e2c_row28_col1\" class=\"data row28 col1\" >least_frequent</td>\n",
       "    </tr>\n",
       "    <tr>\n",
       "      <th id=\"T_36e2c_level0_row29\" class=\"row_heading level0 row29\" >29</th>\n",
       "      <td id=\"T_36e2c_row29_col0\" class=\"data row29 col0\" >Normalize</td>\n",
       "      <td id=\"T_36e2c_row29_col1\" class=\"data row29 col1\" >False</td>\n",
       "    </tr>\n",
       "    <tr>\n",
       "      <th id=\"T_36e2c_level0_row30\" class=\"row_heading level0 row30\" >30</th>\n",
       "      <td id=\"T_36e2c_row30_col0\" class=\"data row30 col0\" >Normalize Method</td>\n",
       "      <td id=\"T_36e2c_row30_col1\" class=\"data row30 col1\" >None</td>\n",
       "    </tr>\n",
       "    <tr>\n",
       "      <th id=\"T_36e2c_level0_row31\" class=\"row_heading level0 row31\" >31</th>\n",
       "      <td id=\"T_36e2c_row31_col0\" class=\"data row31 col0\" >Transformation</td>\n",
       "      <td id=\"T_36e2c_row31_col1\" class=\"data row31 col1\" >False</td>\n",
       "    </tr>\n",
       "    <tr>\n",
       "      <th id=\"T_36e2c_level0_row32\" class=\"row_heading level0 row32\" >32</th>\n",
       "      <td id=\"T_36e2c_row32_col0\" class=\"data row32 col0\" >Transformation Method</td>\n",
       "      <td id=\"T_36e2c_row32_col1\" class=\"data row32 col1\" >None</td>\n",
       "    </tr>\n",
       "    <tr>\n",
       "      <th id=\"T_36e2c_level0_row33\" class=\"row_heading level0 row33\" >33</th>\n",
       "      <td id=\"T_36e2c_row33_col0\" class=\"data row33 col0\" >PCA</td>\n",
       "      <td id=\"T_36e2c_row33_col1\" class=\"data row33 col1\" >False</td>\n",
       "    </tr>\n",
       "    <tr>\n",
       "      <th id=\"T_36e2c_level0_row34\" class=\"row_heading level0 row34\" >34</th>\n",
       "      <td id=\"T_36e2c_row34_col0\" class=\"data row34 col0\" >PCA Method</td>\n",
       "      <td id=\"T_36e2c_row34_col1\" class=\"data row34 col1\" >None</td>\n",
       "    </tr>\n",
       "    <tr>\n",
       "      <th id=\"T_36e2c_level0_row35\" class=\"row_heading level0 row35\" >35</th>\n",
       "      <td id=\"T_36e2c_row35_col0\" class=\"data row35 col0\" >PCA Components</td>\n",
       "      <td id=\"T_36e2c_row35_col1\" class=\"data row35 col1\" >None</td>\n",
       "    </tr>\n",
       "    <tr>\n",
       "      <th id=\"T_36e2c_level0_row36\" class=\"row_heading level0 row36\" >36</th>\n",
       "      <td id=\"T_36e2c_row36_col0\" class=\"data row36 col0\" >Ignore Low Variance</td>\n",
       "      <td id=\"T_36e2c_row36_col1\" class=\"data row36 col1\" >False</td>\n",
       "    </tr>\n",
       "    <tr>\n",
       "      <th id=\"T_36e2c_level0_row37\" class=\"row_heading level0 row37\" >37</th>\n",
       "      <td id=\"T_36e2c_row37_col0\" class=\"data row37 col0\" >Combine Rare Levels</td>\n",
       "      <td id=\"T_36e2c_row37_col1\" class=\"data row37 col1\" >False</td>\n",
       "    </tr>\n",
       "    <tr>\n",
       "      <th id=\"T_36e2c_level0_row38\" class=\"row_heading level0 row38\" >38</th>\n",
       "      <td id=\"T_36e2c_row38_col0\" class=\"data row38 col0\" >Rare Level Threshold</td>\n",
       "      <td id=\"T_36e2c_row38_col1\" class=\"data row38 col1\" >None</td>\n",
       "    </tr>\n",
       "    <tr>\n",
       "      <th id=\"T_36e2c_level0_row39\" class=\"row_heading level0 row39\" >39</th>\n",
       "      <td id=\"T_36e2c_row39_col0\" class=\"data row39 col0\" >Numeric Binning</td>\n",
       "      <td id=\"T_36e2c_row39_col1\" class=\"data row39 col1\" >False</td>\n",
       "    </tr>\n",
       "    <tr>\n",
       "      <th id=\"T_36e2c_level0_row40\" class=\"row_heading level0 row40\" >40</th>\n",
       "      <td id=\"T_36e2c_row40_col0\" class=\"data row40 col0\" >Remove Outliers</td>\n",
       "      <td id=\"T_36e2c_row40_col1\" class=\"data row40 col1\" >False</td>\n",
       "    </tr>\n",
       "    <tr>\n",
       "      <th id=\"T_36e2c_level0_row41\" class=\"row_heading level0 row41\" >41</th>\n",
       "      <td id=\"T_36e2c_row41_col0\" class=\"data row41 col0\" >Outliers Threshold</td>\n",
       "      <td id=\"T_36e2c_row41_col1\" class=\"data row41 col1\" >None</td>\n",
       "    </tr>\n",
       "    <tr>\n",
       "      <th id=\"T_36e2c_level0_row42\" class=\"row_heading level0 row42\" >42</th>\n",
       "      <td id=\"T_36e2c_row42_col0\" class=\"data row42 col0\" >Remove Multicollinearity</td>\n",
       "      <td id=\"T_36e2c_row42_col1\" class=\"data row42 col1\" >False</td>\n",
       "    </tr>\n",
       "    <tr>\n",
       "      <th id=\"T_36e2c_level0_row43\" class=\"row_heading level0 row43\" >43</th>\n",
       "      <td id=\"T_36e2c_row43_col0\" class=\"data row43 col0\" >Multicollinearity Threshold</td>\n",
       "      <td id=\"T_36e2c_row43_col1\" class=\"data row43 col1\" >None</td>\n",
       "    </tr>\n",
       "    <tr>\n",
       "      <th id=\"T_36e2c_level0_row44\" class=\"row_heading level0 row44\" >44</th>\n",
       "      <td id=\"T_36e2c_row44_col0\" class=\"data row44 col0\" >Remove Perfect Collinearity</td>\n",
       "      <td id=\"T_36e2c_row44_col1\" class=\"data row44 col1\" >True</td>\n",
       "    </tr>\n",
       "    <tr>\n",
       "      <th id=\"T_36e2c_level0_row45\" class=\"row_heading level0 row45\" >45</th>\n",
       "      <td id=\"T_36e2c_row45_col0\" class=\"data row45 col0\" >Clustering</td>\n",
       "      <td id=\"T_36e2c_row45_col1\" class=\"data row45 col1\" >False</td>\n",
       "    </tr>\n",
       "    <tr>\n",
       "      <th id=\"T_36e2c_level0_row46\" class=\"row_heading level0 row46\" >46</th>\n",
       "      <td id=\"T_36e2c_row46_col0\" class=\"data row46 col0\" >Clustering Iteration</td>\n",
       "      <td id=\"T_36e2c_row46_col1\" class=\"data row46 col1\" >None</td>\n",
       "    </tr>\n",
       "    <tr>\n",
       "      <th id=\"T_36e2c_level0_row47\" class=\"row_heading level0 row47\" >47</th>\n",
       "      <td id=\"T_36e2c_row47_col0\" class=\"data row47 col0\" >Polynomial Features</td>\n",
       "      <td id=\"T_36e2c_row47_col1\" class=\"data row47 col1\" >False</td>\n",
       "    </tr>\n",
       "    <tr>\n",
       "      <th id=\"T_36e2c_level0_row48\" class=\"row_heading level0 row48\" >48</th>\n",
       "      <td id=\"T_36e2c_row48_col0\" class=\"data row48 col0\" >Polynomial Degree</td>\n",
       "      <td id=\"T_36e2c_row48_col1\" class=\"data row48 col1\" >None</td>\n",
       "    </tr>\n",
       "    <tr>\n",
       "      <th id=\"T_36e2c_level0_row49\" class=\"row_heading level0 row49\" >49</th>\n",
       "      <td id=\"T_36e2c_row49_col0\" class=\"data row49 col0\" >Trignometry Features</td>\n",
       "      <td id=\"T_36e2c_row49_col1\" class=\"data row49 col1\" >False</td>\n",
       "    </tr>\n",
       "    <tr>\n",
       "      <th id=\"T_36e2c_level0_row50\" class=\"row_heading level0 row50\" >50</th>\n",
       "      <td id=\"T_36e2c_row50_col0\" class=\"data row50 col0\" >Polynomial Threshold</td>\n",
       "      <td id=\"T_36e2c_row50_col1\" class=\"data row50 col1\" >None</td>\n",
       "    </tr>\n",
       "    <tr>\n",
       "      <th id=\"T_36e2c_level0_row51\" class=\"row_heading level0 row51\" >51</th>\n",
       "      <td id=\"T_36e2c_row51_col0\" class=\"data row51 col0\" >Group Features</td>\n",
       "      <td id=\"T_36e2c_row51_col1\" class=\"data row51 col1\" >False</td>\n",
       "    </tr>\n",
       "    <tr>\n",
       "      <th id=\"T_36e2c_level0_row52\" class=\"row_heading level0 row52\" >52</th>\n",
       "      <td id=\"T_36e2c_row52_col0\" class=\"data row52 col0\" >Feature Selection</td>\n",
       "      <td id=\"T_36e2c_row52_col1\" class=\"data row52 col1\" >False</td>\n",
       "    </tr>\n",
       "    <tr>\n",
       "      <th id=\"T_36e2c_level0_row53\" class=\"row_heading level0 row53\" >53</th>\n",
       "      <td id=\"T_36e2c_row53_col0\" class=\"data row53 col0\" >Feature Selection Method</td>\n",
       "      <td id=\"T_36e2c_row53_col1\" class=\"data row53 col1\" >classic</td>\n",
       "    </tr>\n",
       "    <tr>\n",
       "      <th id=\"T_36e2c_level0_row54\" class=\"row_heading level0 row54\" >54</th>\n",
       "      <td id=\"T_36e2c_row54_col0\" class=\"data row54 col0\" >Features Selection Threshold</td>\n",
       "      <td id=\"T_36e2c_row54_col1\" class=\"data row54 col1\" >None</td>\n",
       "    </tr>\n",
       "    <tr>\n",
       "      <th id=\"T_36e2c_level0_row55\" class=\"row_heading level0 row55\" >55</th>\n",
       "      <td id=\"T_36e2c_row55_col0\" class=\"data row55 col0\" >Feature Interaction</td>\n",
       "      <td id=\"T_36e2c_row55_col1\" class=\"data row55 col1\" >False</td>\n",
       "    </tr>\n",
       "    <tr>\n",
       "      <th id=\"T_36e2c_level0_row56\" class=\"row_heading level0 row56\" >56</th>\n",
       "      <td id=\"T_36e2c_row56_col0\" class=\"data row56 col0\" >Feature Ratio</td>\n",
       "      <td id=\"T_36e2c_row56_col1\" class=\"data row56 col1\" >False</td>\n",
       "    </tr>\n",
       "    <tr>\n",
       "      <th id=\"T_36e2c_level0_row57\" class=\"row_heading level0 row57\" >57</th>\n",
       "      <td id=\"T_36e2c_row57_col0\" class=\"data row57 col0\" >Interaction Threshold</td>\n",
       "      <td id=\"T_36e2c_row57_col1\" class=\"data row57 col1\" >None</td>\n",
       "    </tr>\n",
       "    <tr>\n",
       "      <th id=\"T_36e2c_level0_row58\" class=\"row_heading level0 row58\" >58</th>\n",
       "      <td id=\"T_36e2c_row58_col0\" class=\"data row58 col0\" >Fix Imbalance</td>\n",
       "      <td id=\"T_36e2c_row58_col1\" class=\"data row58 col1\" >True</td>\n",
       "    </tr>\n",
       "    <tr>\n",
       "      <th id=\"T_36e2c_level0_row59\" class=\"row_heading level0 row59\" >59</th>\n",
       "      <td id=\"T_36e2c_row59_col0\" class=\"data row59 col0\" >Fix Imbalance Method</td>\n",
       "      <td id=\"T_36e2c_row59_col1\" class=\"data row59 col1\" >SMOTE</td>\n",
       "    </tr>\n",
       "  </tbody>\n",
       "</table>\n"
      ],
      "text/plain": [
       "<pandas.io.formats.style.Styler at 0x1f896141d00>"
      ]
     },
     "metadata": {},
     "output_type": "display_data"
    }
   ],
   "source": [
    "exp_mclf101 = setup(data,target=\"genre\",session_id=21, ignore_features = [\"id\",\"titel\"],fix_imbalance=True)"
   ]
  },
  {
   "cell_type": "markdown",
   "id": "5ec2c17b",
   "metadata": {},
   "source": [
    "**Modell Vergleich**\n",
    "\n",
    "Mit der *compare\\_models()* wird einmal die Perfomance aller Modelle bestimmt und alle Modelle werden mittels cross validation (fold = 5) evaluiert. Die größte Genauigkeit mit 0,4753 konnte bei dem *Random Forest Classifier* Modell erzielt werden gefolgt von dem *Gradient Boosting Classifier* Modell mit einer Genauigkeit von 0,4738 und dem Light Gradient Boosting Machine Modell mit einer Genauigkeit von 0,4729. Letzteres hat den besten F-Score erreicht mit 0,4673. Da die Werte der Evaluation aller drei Modelle nah beieinander liegen, werden die Modelle erstellt."
   ]
  },
  {
   "cell_type": "code",
   "execution_count": 13,
   "id": "ac92368b",
   "metadata": {},
   "outputs": [
    {
     "data": {
      "text/html": [
       "<style type=\"text/css\">\n",
       "#T_48f20 th {\n",
       "  text-align: left;\n",
       "}\n",
       "#T_48f20_row0_col0, #T_48f20_row0_col2, #T_48f20_row0_col5, #T_48f20_row1_col0, #T_48f20_row1_col1, #T_48f20_row1_col3, #T_48f20_row1_col4, #T_48f20_row1_col5, #T_48f20_row1_col6, #T_48f20_row1_col7, #T_48f20_row2_col0, #T_48f20_row2_col1, #T_48f20_row2_col2, #T_48f20_row2_col3, #T_48f20_row2_col4, #T_48f20_row2_col6, #T_48f20_row2_col7, #T_48f20_row3_col0, #T_48f20_row3_col1, #T_48f20_row3_col2, #T_48f20_row3_col3, #T_48f20_row3_col4, #T_48f20_row3_col5, #T_48f20_row3_col6, #T_48f20_row3_col7, #T_48f20_row4_col0, #T_48f20_row4_col1, #T_48f20_row4_col2, #T_48f20_row4_col3, #T_48f20_row4_col4, #T_48f20_row4_col5, #T_48f20_row4_col6, #T_48f20_row4_col7, #T_48f20_row5_col0, #T_48f20_row5_col1, #T_48f20_row5_col2, #T_48f20_row5_col3, #T_48f20_row5_col4, #T_48f20_row5_col5, #T_48f20_row5_col6, #T_48f20_row5_col7, #T_48f20_row6_col0, #T_48f20_row6_col1, #T_48f20_row6_col2, #T_48f20_row6_col3, #T_48f20_row6_col4, #T_48f20_row6_col5, #T_48f20_row6_col6, #T_48f20_row6_col7, #T_48f20_row7_col0, #T_48f20_row7_col1, #T_48f20_row7_col2, #T_48f20_row7_col3, #T_48f20_row7_col4, #T_48f20_row7_col5, #T_48f20_row7_col6, #T_48f20_row7_col7, #T_48f20_row8_col0, #T_48f20_row8_col1, #T_48f20_row8_col2, #T_48f20_row8_col3, #T_48f20_row8_col4, #T_48f20_row8_col5, #T_48f20_row8_col6, #T_48f20_row8_col7, #T_48f20_row9_col0, #T_48f20_row9_col1, #T_48f20_row9_col2, #T_48f20_row9_col3, #T_48f20_row9_col4, #T_48f20_row9_col5, #T_48f20_row9_col6, #T_48f20_row9_col7, #T_48f20_row10_col0, #T_48f20_row10_col1, #T_48f20_row10_col2, #T_48f20_row10_col3, #T_48f20_row10_col4, #T_48f20_row10_col5, #T_48f20_row10_col6, #T_48f20_row10_col7, #T_48f20_row11_col0, #T_48f20_row11_col1, #T_48f20_row11_col2, #T_48f20_row11_col3, #T_48f20_row11_col4, #T_48f20_row11_col5, #T_48f20_row11_col6, #T_48f20_row11_col7, #T_48f20_row12_col0, #T_48f20_row12_col1, #T_48f20_row12_col2, #T_48f20_row12_col3, #T_48f20_row12_col4, #T_48f20_row12_col5, #T_48f20_row12_col6, #T_48f20_row12_col7, #T_48f20_row13_col0, #T_48f20_row13_col1, #T_48f20_row13_col2, #T_48f20_row13_col3, #T_48f20_row13_col4, #T_48f20_row13_col5, #T_48f20_row13_col6, #T_48f20_row13_col7 {\n",
       "  text-align: left;\n",
       "}\n",
       "#T_48f20_row0_col1, #T_48f20_row0_col3, #T_48f20_row0_col4, #T_48f20_row0_col6, #T_48f20_row0_col7, #T_48f20_row1_col2, #T_48f20_row2_col5 {\n",
       "  text-align: left;\n",
       "  background-color: yellow;\n",
       "}\n",
       "#T_48f20_row0_col8, #T_48f20_row1_col8, #T_48f20_row2_col8, #T_48f20_row3_col8, #T_48f20_row4_col8, #T_48f20_row5_col8, #T_48f20_row7_col8, #T_48f20_row8_col8, #T_48f20_row9_col8, #T_48f20_row10_col8, #T_48f20_row11_col8, #T_48f20_row13_col8 {\n",
       "  text-align: left;\n",
       "  background-color: lightgrey;\n",
       "}\n",
       "#T_48f20_row6_col8, #T_48f20_row12_col8 {\n",
       "  text-align: left;\n",
       "  background-color: yellow;\n",
       "  background-color: lightgrey;\n",
       "}\n",
       "</style>\n",
       "<table id=\"T_48f20\">\n",
       "  <thead>\n",
       "    <tr>\n",
       "      <th class=\"blank level0\" >&nbsp;</th>\n",
       "      <th id=\"T_48f20_level0_col0\" class=\"col_heading level0 col0\" >Model</th>\n",
       "      <th id=\"T_48f20_level0_col1\" class=\"col_heading level0 col1\" >Accuracy</th>\n",
       "      <th id=\"T_48f20_level0_col2\" class=\"col_heading level0 col2\" >AUC</th>\n",
       "      <th id=\"T_48f20_level0_col3\" class=\"col_heading level0 col3\" >Recall</th>\n",
       "      <th id=\"T_48f20_level0_col4\" class=\"col_heading level0 col4\" >Prec.</th>\n",
       "      <th id=\"T_48f20_level0_col5\" class=\"col_heading level0 col5\" >F1</th>\n",
       "      <th id=\"T_48f20_level0_col6\" class=\"col_heading level0 col6\" >Kappa</th>\n",
       "      <th id=\"T_48f20_level0_col7\" class=\"col_heading level0 col7\" >MCC</th>\n",
       "      <th id=\"T_48f20_level0_col8\" class=\"col_heading level0 col8\" >TT (Sec)</th>\n",
       "    </tr>\n",
       "  </thead>\n",
       "  <tbody>\n",
       "    <tr>\n",
       "      <th id=\"T_48f20_level0_row0\" class=\"row_heading level0 row0\" >rf</th>\n",
       "      <td id=\"T_48f20_row0_col0\" class=\"data row0 col0\" >Random Forest Classifier</td>\n",
       "      <td id=\"T_48f20_row0_col1\" class=\"data row0 col1\" >0.4753</td>\n",
       "      <td id=\"T_48f20_row0_col2\" class=\"data row0 col2\" >0.8374</td>\n",
       "      <td id=\"T_48f20_row0_col3\" class=\"data row0 col3\" >0.4777</td>\n",
       "      <td id=\"T_48f20_row0_col4\" class=\"data row0 col4\" >0.4695</td>\n",
       "      <td id=\"T_48f20_row0_col5\" class=\"data row0 col5\" >0.4654</td>\n",
       "      <td id=\"T_48f20_row0_col6\" class=\"data row0 col6\" >0.3990</td>\n",
       "      <td id=\"T_48f20_row0_col7\" class=\"data row0 col7\" >0.4005</td>\n",
       "      <td id=\"T_48f20_row0_col8\" class=\"data row0 col8\" >0.5230</td>\n",
       "    </tr>\n",
       "    <tr>\n",
       "      <th id=\"T_48f20_level0_row1\" class=\"row_heading level0 row1\" >gbc</th>\n",
       "      <td id=\"T_48f20_row1_col0\" class=\"data row1 col0\" >Gradient Boosting Classifier</td>\n",
       "      <td id=\"T_48f20_row1_col1\" class=\"data row1 col1\" >0.4738</td>\n",
       "      <td id=\"T_48f20_row1_col2\" class=\"data row1 col2\" >0.8434</td>\n",
       "      <td id=\"T_48f20_row1_col3\" class=\"data row1 col3\" >0.4741</td>\n",
       "      <td id=\"T_48f20_row1_col4\" class=\"data row1 col4\" >0.4670</td>\n",
       "      <td id=\"T_48f20_row1_col5\" class=\"data row1 col5\" >0.4651</td>\n",
       "      <td id=\"T_48f20_row1_col6\" class=\"data row1 col6\" >0.3971</td>\n",
       "      <td id=\"T_48f20_row1_col7\" class=\"data row1 col7\" >0.3984</td>\n",
       "      <td id=\"T_48f20_row1_col8\" class=\"data row1 col8\" >5.7740</td>\n",
       "    </tr>\n",
       "    <tr>\n",
       "      <th id=\"T_48f20_level0_row2\" class=\"row_heading level0 row2\" >lightgbm</th>\n",
       "      <td id=\"T_48f20_row2_col0\" class=\"data row2 col0\" >Light Gradient Boosting Machine</td>\n",
       "      <td id=\"T_48f20_row2_col1\" class=\"data row2 col1\" >0.4729</td>\n",
       "      <td id=\"T_48f20_row2_col2\" class=\"data row2 col2\" >0.8424</td>\n",
       "      <td id=\"T_48f20_row2_col3\" class=\"data row2 col3\" >0.4726</td>\n",
       "      <td id=\"T_48f20_row2_col4\" class=\"data row2 col4\" >0.4669</td>\n",
       "      <td id=\"T_48f20_row2_col5\" class=\"data row2 col5\" >0.4673</td>\n",
       "      <td id=\"T_48f20_row2_col6\" class=\"data row2 col6\" >0.3957</td>\n",
       "      <td id=\"T_48f20_row2_col7\" class=\"data row2 col7\" >0.3964</td>\n",
       "      <td id=\"T_48f20_row2_col8\" class=\"data row2 col8\" >0.8000</td>\n",
       "    </tr>\n",
       "    <tr>\n",
       "      <th id=\"T_48f20_level0_row3\" class=\"row_heading level0 row3\" >et</th>\n",
       "      <td id=\"T_48f20_row3_col0\" class=\"data row3 col0\" >Extra Trees Classifier</td>\n",
       "      <td id=\"T_48f20_row3_col1\" class=\"data row3 col1\" >0.4485</td>\n",
       "      <td id=\"T_48f20_row3_col2\" class=\"data row3 col2\" >0.8215</td>\n",
       "      <td id=\"T_48f20_row3_col3\" class=\"data row3 col3\" >0.4508</td>\n",
       "      <td id=\"T_48f20_row3_col4\" class=\"data row3 col4\" >0.4376</td>\n",
       "      <td id=\"T_48f20_row3_col5\" class=\"data row3 col5\" >0.4363</td>\n",
       "      <td id=\"T_48f20_row3_col6\" class=\"data row3 col6\" >0.3681</td>\n",
       "      <td id=\"T_48f20_row3_col7\" class=\"data row3 col7\" >0.3696</td>\n",
       "      <td id=\"T_48f20_row3_col8\" class=\"data row3 col8\" >0.5450</td>\n",
       "    </tr>\n",
       "    <tr>\n",
       "      <th id=\"T_48f20_level0_row4\" class=\"row_heading level0 row4\" >lda</th>\n",
       "      <td id=\"T_48f20_row4_col0\" class=\"data row4 col0\" >Linear Discriminant Analysis</td>\n",
       "      <td id=\"T_48f20_row4_col1\" class=\"data row4 col1\" >0.4058</td>\n",
       "      <td id=\"T_48f20_row4_col2\" class=\"data row4 col2\" >0.7929</td>\n",
       "      <td id=\"T_48f20_row4_col3\" class=\"data row4 col3\" >0.4049</td>\n",
       "      <td id=\"T_48f20_row4_col4\" class=\"data row4 col4\" >0.3998</td>\n",
       "      <td id=\"T_48f20_row4_col5\" class=\"data row4 col5\" >0.3934</td>\n",
       "      <td id=\"T_48f20_row4_col6\" class=\"data row4 col6\" >0.3189</td>\n",
       "      <td id=\"T_48f20_row4_col7\" class=\"data row4 col7\" >0.3208</td>\n",
       "      <td id=\"T_48f20_row4_col8\" class=\"data row4 col8\" >0.0490</td>\n",
       "    </tr>\n",
       "    <tr>\n",
       "      <th id=\"T_48f20_level0_row5\" class=\"row_heading level0 row5\" >ada</th>\n",
       "      <td id=\"T_48f20_row5_col0\" class=\"data row5 col0\" >Ada Boost Classifier</td>\n",
       "      <td id=\"T_48f20_row5_col1\" class=\"data row5 col1\" >0.3950</td>\n",
       "      <td id=\"T_48f20_row5_col2\" class=\"data row5 col2\" >0.7828</td>\n",
       "      <td id=\"T_48f20_row5_col3\" class=\"data row5 col3\" >0.4012</td>\n",
       "      <td id=\"T_48f20_row5_col4\" class=\"data row5 col4\" >0.3726</td>\n",
       "      <td id=\"T_48f20_row5_col5\" class=\"data row5 col5\" >0.3641</td>\n",
       "      <td id=\"T_48f20_row5_col6\" class=\"data row5 col6\" >0.3082</td>\n",
       "      <td id=\"T_48f20_row5_col7\" class=\"data row5 col7\" >0.3135</td>\n",
       "      <td id=\"T_48f20_row5_col8\" class=\"data row5 col8\" >0.2370</td>\n",
       "    </tr>\n",
       "    <tr>\n",
       "      <th id=\"T_48f20_level0_row6\" class=\"row_heading level0 row6\" >ridge</th>\n",
       "      <td id=\"T_48f20_row6_col0\" class=\"data row6 col0\" >Ridge Classifier</td>\n",
       "      <td id=\"T_48f20_row6_col1\" class=\"data row6 col1\" >0.3932</td>\n",
       "      <td id=\"T_48f20_row6_col2\" class=\"data row6 col2\" >0.0000</td>\n",
       "      <td id=\"T_48f20_row6_col3\" class=\"data row6 col3\" >0.3964</td>\n",
       "      <td id=\"T_48f20_row6_col4\" class=\"data row6 col4\" >0.3799</td>\n",
       "      <td id=\"T_48f20_row6_col5\" class=\"data row6 col5\" >0.3612</td>\n",
       "      <td id=\"T_48f20_row6_col6\" class=\"data row6 col6\" >0.3048</td>\n",
       "      <td id=\"T_48f20_row6_col7\" class=\"data row6 col7\" >0.3103</td>\n",
       "      <td id=\"T_48f20_row6_col8\" class=\"data row6 col8\" >0.0260</td>\n",
       "    </tr>\n",
       "    <tr>\n",
       "      <th id=\"T_48f20_level0_row7\" class=\"row_heading level0 row7\" >dt</th>\n",
       "      <td id=\"T_48f20_row7_col0\" class=\"data row7 col0\" >Decision Tree Classifier</td>\n",
       "      <td id=\"T_48f20_row7_col1\" class=\"data row7 col1\" >0.3418</td>\n",
       "      <td id=\"T_48f20_row7_col2\" class=\"data row7 col2\" >0.6237</td>\n",
       "      <td id=\"T_48f20_row7_col3\" class=\"data row7 col3\" >0.3402</td>\n",
       "      <td id=\"T_48f20_row7_col4\" class=\"data row7 col4\" >0.3445</td>\n",
       "      <td id=\"T_48f20_row7_col5\" class=\"data row7 col5\" >0.3421</td>\n",
       "      <td id=\"T_48f20_row7_col6\" class=\"data row7 col6\" >0.2456</td>\n",
       "      <td id=\"T_48f20_row7_col7\" class=\"data row7 col7\" >0.2458</td>\n",
       "      <td id=\"T_48f20_row7_col8\" class=\"data row7 col8\" >0.0570</td>\n",
       "    </tr>\n",
       "    <tr>\n",
       "      <th id=\"T_48f20_level0_row8\" class=\"row_heading level0 row8\" >nb</th>\n",
       "      <td id=\"T_48f20_row8_col0\" class=\"data row8 col0\" >Naive Bayes</td>\n",
       "      <td id=\"T_48f20_row8_col1\" class=\"data row8 col1\" >0.2659</td>\n",
       "      <td id=\"T_48f20_row8_col2\" class=\"data row8 col2\" >0.6948</td>\n",
       "      <td id=\"T_48f20_row8_col3\" class=\"data row8 col3\" >0.2797</td>\n",
       "      <td id=\"T_48f20_row8_col4\" class=\"data row8 col4\" >0.3091</td>\n",
       "      <td id=\"T_48f20_row8_col5\" class=\"data row8 col5\" >0.2505</td>\n",
       "      <td id=\"T_48f20_row8_col6\" class=\"data row8 col6\" >0.1673</td>\n",
       "      <td id=\"T_48f20_row8_col7\" class=\"data row8 col7\" >0.1743</td>\n",
       "      <td id=\"T_48f20_row8_col8\" class=\"data row8 col8\" >0.0280</td>\n",
       "    </tr>\n",
       "    <tr>\n",
       "      <th id=\"T_48f20_level0_row9\" class=\"row_heading level0 row9\" >qda</th>\n",
       "      <td id=\"T_48f20_row9_col0\" class=\"data row9 col0\" >Quadratic Discriminant Analysis</td>\n",
       "      <td id=\"T_48f20_row9_col1\" class=\"data row9 col1\" >0.1637</td>\n",
       "      <td id=\"T_48f20_row9_col2\" class=\"data row9 col2\" >0.6015</td>\n",
       "      <td id=\"T_48f20_row9_col3\" class=\"data row9 col3\" >0.1693</td>\n",
       "      <td id=\"T_48f20_row9_col4\" class=\"data row9 col4\" >0.2340</td>\n",
       "      <td id=\"T_48f20_row9_col5\" class=\"data row9 col5\" >0.1026</td>\n",
       "      <td id=\"T_48f20_row9_col6\" class=\"data row9 col6\" >0.0485</td>\n",
       "      <td id=\"T_48f20_row9_col7\" class=\"data row9 col7\" >0.0775</td>\n",
       "      <td id=\"T_48f20_row9_col8\" class=\"data row9 col8\" >0.0350</td>\n",
       "    </tr>\n",
       "    <tr>\n",
       "      <th id=\"T_48f20_level0_row10\" class=\"row_heading level0 row10\" >knn</th>\n",
       "      <td id=\"T_48f20_row10_col0\" class=\"data row10 col0\" >K Neighbors Classifier</td>\n",
       "      <td id=\"T_48f20_row10_col1\" class=\"data row10 col1\" >0.1553</td>\n",
       "      <td id=\"T_48f20_row10_col2\" class=\"data row10 col2\" >0.5496</td>\n",
       "      <td id=\"T_48f20_row10_col3\" class=\"data row10 col3\" >0.1571</td>\n",
       "      <td id=\"T_48f20_row10_col4\" class=\"data row10 col4\" >0.1612</td>\n",
       "      <td id=\"T_48f20_row10_col5\" class=\"data row10 col5\" >0.1523</td>\n",
       "      <td id=\"T_48f20_row10_col6\" class=\"data row10 col6\" >0.0356</td>\n",
       "      <td id=\"T_48f20_row10_col7\" class=\"data row10 col7\" >0.0360</td>\n",
       "      <td id=\"T_48f20_row10_col8\" class=\"data row10 col8\" >0.0560</td>\n",
       "    </tr>\n",
       "    <tr>\n",
       "      <th id=\"T_48f20_level0_row11\" class=\"row_heading level0 row11\" >lr</th>\n",
       "      <td id=\"T_48f20_row11_col0\" class=\"data row11 col0\" >Logistic Regression</td>\n",
       "      <td id=\"T_48f20_row11_col1\" class=\"data row11 col1\" >0.1403</td>\n",
       "      <td id=\"T_48f20_row11_col2\" class=\"data row11 col2\" >0.5926</td>\n",
       "      <td id=\"T_48f20_row11_col3\" class=\"data row11 col3\" >0.1250</td>\n",
       "      <td id=\"T_48f20_row11_col4\" class=\"data row11 col4\" >0.0197</td>\n",
       "      <td id=\"T_48f20_row11_col5\" class=\"data row11 col5\" >0.0345</td>\n",
       "      <td id=\"T_48f20_row11_col6\" class=\"data row11 col6\" >0.0000</td>\n",
       "      <td id=\"T_48f20_row11_col7\" class=\"data row11 col7\" >0.0000</td>\n",
       "      <td id=\"T_48f20_row11_col8\" class=\"data row11 col8\" >0.5430</td>\n",
       "    </tr>\n",
       "    <tr>\n",
       "      <th id=\"T_48f20_level0_row12\" class=\"row_heading level0 row12\" >dummy</th>\n",
       "      <td id=\"T_48f20_row12_col0\" class=\"data row12 col0\" >Dummy Classifier</td>\n",
       "      <td id=\"T_48f20_row12_col1\" class=\"data row12 col1\" >0.1253</td>\n",
       "      <td id=\"T_48f20_row12_col2\" class=\"data row12 col2\" >0.5000</td>\n",
       "      <td id=\"T_48f20_row12_col3\" class=\"data row12 col3\" >0.1250</td>\n",
       "      <td id=\"T_48f20_row12_col4\" class=\"data row12 col4\" >0.0157</td>\n",
       "      <td id=\"T_48f20_row12_col5\" class=\"data row12 col5\" >0.0279</td>\n",
       "      <td id=\"T_48f20_row12_col6\" class=\"data row12 col6\" >0.0000</td>\n",
       "      <td id=\"T_48f20_row12_col7\" class=\"data row12 col7\" >0.0000</td>\n",
       "      <td id=\"T_48f20_row12_col8\" class=\"data row12 col8\" >0.0260</td>\n",
       "    </tr>\n",
       "    <tr>\n",
       "      <th id=\"T_48f20_level0_row13\" class=\"row_heading level0 row13\" >svm</th>\n",
       "      <td id=\"T_48f20_row13_col0\" class=\"data row13 col0\" >SVM - Linear Kernel</td>\n",
       "      <td id=\"T_48f20_row13_col1\" class=\"data row13 col1\" >0.1238</td>\n",
       "      <td id=\"T_48f20_row13_col2\" class=\"data row13 col2\" >0.0000</td>\n",
       "      <td id=\"T_48f20_row13_col3\" class=\"data row13 col3\" >0.1247</td>\n",
       "      <td id=\"T_48f20_row13_col4\" class=\"data row13 col4\" >0.0156</td>\n",
       "      <td id=\"T_48f20_row13_col5\" class=\"data row13 col5\" >0.0277</td>\n",
       "      <td id=\"T_48f20_row13_col6\" class=\"data row13 col6\" >-0.0004</td>\n",
       "      <td id=\"T_48f20_row13_col7\" class=\"data row13 col7\" >-0.0045</td>\n",
       "      <td id=\"T_48f20_row13_col8\" class=\"data row13 col8\" >0.2040</td>\n",
       "    </tr>\n",
       "  </tbody>\n",
       "</table>\n"
      ],
      "text/plain": [
       "<pandas.io.formats.style.Styler at 0x1f88b935b50>"
      ]
     },
     "metadata": {},
     "output_type": "display_data"
    }
   ],
   "source": [
    "best_model = compare_models()"
   ]
  },
  {
   "cell_type": "markdown",
   "id": "50f62e2f",
   "metadata": {},
   "source": [
    "**Modell Erstellung**\n",
    "\n",
    "**Random Forest Classifer (rf)**\n",
    "\n",
    "Das rf Modell erzielte eine durchschnittliche Genauigkeit der richtigen Klassifizierung der Daten von 0.4753. Außerdem einen Recall (Anzahl der wahren positiven Einordnungen geteilt durch alle positiven Einordnungen) von 4,4777, sowie eine Precision von 0,4654 (Anzahl aller wahren Positiven Einordnungen geteilt durch alle wahren positiven Einordnungen plus aller falsch negativen Einordnungen)."
   ]
  },
  {
   "cell_type": "code",
   "execution_count": 14,
   "id": "356929b3",
   "metadata": {},
   "outputs": [
    {
     "data": {
      "text/html": [
       "<style type=\"text/css\">\n",
       "#T_a0c02_row10_col0, #T_a0c02_row10_col1, #T_a0c02_row10_col2, #T_a0c02_row10_col3, #T_a0c02_row10_col4, #T_a0c02_row10_col5, #T_a0c02_row10_col6 {\n",
       "  background: yellow;\n",
       "}\n",
       "</style>\n",
       "<table id=\"T_a0c02\">\n",
       "  <thead>\n",
       "    <tr>\n",
       "      <th class=\"blank level0\" >&nbsp;</th>\n",
       "      <th id=\"T_a0c02_level0_col0\" class=\"col_heading level0 col0\" >Accuracy</th>\n",
       "      <th id=\"T_a0c02_level0_col1\" class=\"col_heading level0 col1\" >AUC</th>\n",
       "      <th id=\"T_a0c02_level0_col2\" class=\"col_heading level0 col2\" >Recall</th>\n",
       "      <th id=\"T_a0c02_level0_col3\" class=\"col_heading level0 col3\" >Prec.</th>\n",
       "      <th id=\"T_a0c02_level0_col4\" class=\"col_heading level0 col4\" >F1</th>\n",
       "      <th id=\"T_a0c02_level0_col5\" class=\"col_heading level0 col5\" >Kappa</th>\n",
       "      <th id=\"T_a0c02_level0_col6\" class=\"col_heading level0 col6\" >MCC</th>\n",
       "    </tr>\n",
       "    <tr>\n",
       "      <th class=\"index_name level0\" >Fold</th>\n",
       "      <th class=\"blank col0\" >&nbsp;</th>\n",
       "      <th class=\"blank col1\" >&nbsp;</th>\n",
       "      <th class=\"blank col2\" >&nbsp;</th>\n",
       "      <th class=\"blank col3\" >&nbsp;</th>\n",
       "      <th class=\"blank col4\" >&nbsp;</th>\n",
       "      <th class=\"blank col5\" >&nbsp;</th>\n",
       "      <th class=\"blank col6\" >&nbsp;</th>\n",
       "    </tr>\n",
       "  </thead>\n",
       "  <tbody>\n",
       "    <tr>\n",
       "      <th id=\"T_a0c02_level0_row0\" class=\"row_heading level0 row0\" >0</th>\n",
       "      <td id=\"T_a0c02_row0_col0\" class=\"data row0 col0\" >0.5000</td>\n",
       "      <td id=\"T_a0c02_row0_col1\" class=\"data row0 col1\" >0.8468</td>\n",
       "      <td id=\"T_a0c02_row0_col2\" class=\"data row0 col2\" >0.5061</td>\n",
       "      <td id=\"T_a0c02_row0_col3\" class=\"data row0 col3\" >0.4892</td>\n",
       "      <td id=\"T_a0c02_row0_col4\" class=\"data row0 col4\" >0.4858</td>\n",
       "      <td id=\"T_a0c02_row0_col5\" class=\"data row0 col5\" >0.4273</td>\n",
       "      <td id=\"T_a0c02_row0_col6\" class=\"data row0 col6\" >0.4293</td>\n",
       "    </tr>\n",
       "    <tr>\n",
       "      <th id=\"T_a0c02_level0_row1\" class=\"row_heading level0 row1\" >1</th>\n",
       "      <td id=\"T_a0c02_row1_col0\" class=\"data row1 col0\" >0.4570</td>\n",
       "      <td id=\"T_a0c02_row1_col1\" class=\"data row1 col1\" >0.8199</td>\n",
       "      <td id=\"T_a0c02_row1_col2\" class=\"data row1 col2\" >0.4637</td>\n",
       "      <td id=\"T_a0c02_row1_col3\" class=\"data row1 col3\" >0.4521</td>\n",
       "      <td id=\"T_a0c02_row1_col4\" class=\"data row1 col4\" >0.4478</td>\n",
       "      <td id=\"T_a0c02_row1_col5\" class=\"data row1 col5\" >0.3782</td>\n",
       "      <td id=\"T_a0c02_row1_col6\" class=\"data row1 col6\" >0.3796</td>\n",
       "    </tr>\n",
       "    <tr>\n",
       "      <th id=\"T_a0c02_level0_row2\" class=\"row_heading level0 row2\" >2</th>\n",
       "      <td id=\"T_a0c02_row2_col0\" class=\"data row2 col0\" >0.4857</td>\n",
       "      <td id=\"T_a0c02_row2_col1\" class=\"data row2 col1\" >0.8489</td>\n",
       "      <td id=\"T_a0c02_row2_col2\" class=\"data row2 col2\" >0.4919</td>\n",
       "      <td id=\"T_a0c02_row2_col3\" class=\"data row2 col3\" >0.4834</td>\n",
       "      <td id=\"T_a0c02_row2_col4\" class=\"data row2 col4\" >0.4794</td>\n",
       "      <td id=\"T_a0c02_row2_col5\" class=\"data row2 col5\" >0.4119</td>\n",
       "      <td id=\"T_a0c02_row2_col6\" class=\"data row2 col6\" >0.4132</td>\n",
       "    </tr>\n",
       "    <tr>\n",
       "      <th id=\"T_a0c02_level0_row3\" class=\"row_heading level0 row3\" >3</th>\n",
       "      <td id=\"T_a0c02_row3_col0\" class=\"data row3 col0\" >0.4874</td>\n",
       "      <td id=\"T_a0c02_row3_col1\" class=\"data row3 col1\" >0.8414</td>\n",
       "      <td id=\"T_a0c02_row3_col2\" class=\"data row3 col2\" >0.4894</td>\n",
       "      <td id=\"T_a0c02_row3_col3\" class=\"data row3 col3\" >0.4829</td>\n",
       "      <td id=\"T_a0c02_row3_col4\" class=\"data row3 col4\" >0.4798</td>\n",
       "      <td id=\"T_a0c02_row3_col5\" class=\"data row3 col5\" >0.4128</td>\n",
       "      <td id=\"T_a0c02_row3_col6\" class=\"data row3 col6\" >0.4140</td>\n",
       "    </tr>\n",
       "    <tr>\n",
       "      <th id=\"T_a0c02_level0_row4\" class=\"row_heading level0 row4\" >4</th>\n",
       "      <td id=\"T_a0c02_row4_col0\" class=\"data row4 col0\" >0.4435</td>\n",
       "      <td id=\"T_a0c02_row4_col1\" class=\"data row4 col1\" >0.8199</td>\n",
       "      <td id=\"T_a0c02_row4_col2\" class=\"data row4 col2\" >0.4441</td>\n",
       "      <td id=\"T_a0c02_row4_col3\" class=\"data row4 col3\" >0.4364</td>\n",
       "      <td id=\"T_a0c02_row4_col4\" class=\"data row4 col4\" >0.4310</td>\n",
       "      <td id=\"T_a0c02_row4_col5\" class=\"data row4 col5\" >0.3623</td>\n",
       "      <td id=\"T_a0c02_row4_col6\" class=\"data row4 col6\" >0.3643</td>\n",
       "    </tr>\n",
       "    <tr>\n",
       "      <th id=\"T_a0c02_level0_row5\" class=\"row_heading level0 row5\" >5</th>\n",
       "      <td id=\"T_a0c02_row5_col0\" class=\"data row5 col0\" >0.4570</td>\n",
       "      <td id=\"T_a0c02_row5_col1\" class=\"data row5 col1\" >0.8330</td>\n",
       "      <td id=\"T_a0c02_row5_col2\" class=\"data row5 col2\" >0.4572</td>\n",
       "      <td id=\"T_a0c02_row5_col3\" class=\"data row5 col3\" >0.4509</td>\n",
       "      <td id=\"T_a0c02_row5_col4\" class=\"data row5 col4\" >0.4494</td>\n",
       "      <td id=\"T_a0c02_row5_col5\" class=\"data row5 col5\" >0.3784</td>\n",
       "      <td id=\"T_a0c02_row5_col6\" class=\"data row5 col6\" >0.3795</td>\n",
       "    </tr>\n",
       "    <tr>\n",
       "      <th id=\"T_a0c02_level0_row6\" class=\"row_heading level0 row6\" >6</th>\n",
       "      <td id=\"T_a0c02_row6_col0\" class=\"data row6 col0\" >0.5126</td>\n",
       "      <td id=\"T_a0c02_row6_col1\" class=\"data row6 col1\" >0.8605</td>\n",
       "      <td id=\"T_a0c02_row6_col2\" class=\"data row6 col2\" >0.5118</td>\n",
       "      <td id=\"T_a0c02_row6_col3\" class=\"data row6 col3\" >0.5156</td>\n",
       "      <td id=\"T_a0c02_row6_col4\" class=\"data row6 col4\" >0.5019</td>\n",
       "      <td id=\"T_a0c02_row6_col5\" class=\"data row6 col5\" >0.4418</td>\n",
       "      <td id=\"T_a0c02_row6_col6\" class=\"data row6 col6\" >0.4443</td>\n",
       "    </tr>\n",
       "    <tr>\n",
       "      <th id=\"T_a0c02_level0_row7\" class=\"row_heading level0 row7\" >7</th>\n",
       "      <td id=\"T_a0c02_row7_col0\" class=\"data row7 col0\" >0.4587</td>\n",
       "      <td id=\"T_a0c02_row7_col1\" class=\"data row7 col1\" >0.8356</td>\n",
       "      <td id=\"T_a0c02_row7_col2\" class=\"data row7 col2\" >0.4625</td>\n",
       "      <td id=\"T_a0c02_row7_col3\" class=\"data row7 col3\" >0.4583</td>\n",
       "      <td id=\"T_a0c02_row7_col4\" class=\"data row7 col4\" >0.4498</td>\n",
       "      <td id=\"T_a0c02_row7_col5\" class=\"data row7 col5\" >0.3799</td>\n",
       "      <td id=\"T_a0c02_row7_col6\" class=\"data row7 col6\" >0.3816</td>\n",
       "    </tr>\n",
       "    <tr>\n",
       "      <th id=\"T_a0c02_level0_row8\" class=\"row_heading level0 row8\" >8</th>\n",
       "      <td id=\"T_a0c02_row8_col0\" class=\"data row8 col0\" >0.4739</td>\n",
       "      <td id=\"T_a0c02_row8_col1\" class=\"data row8 col1\" >0.8371</td>\n",
       "      <td id=\"T_a0c02_row8_col2\" class=\"data row8 col2\" >0.4739</td>\n",
       "      <td id=\"T_a0c02_row8_col3\" class=\"data row8 col3\" >0.4654</td>\n",
       "      <td id=\"T_a0c02_row8_col4\" class=\"data row8 col4\" >0.4651</td>\n",
       "      <td id=\"T_a0c02_row8_col5\" class=\"data row8 col5\" >0.3970</td>\n",
       "      <td id=\"T_a0c02_row8_col6\" class=\"data row8 col6\" >0.3980</td>\n",
       "    </tr>\n",
       "    <tr>\n",
       "      <th id=\"T_a0c02_level0_row9\" class=\"row_heading level0 row9\" >9</th>\n",
       "      <td id=\"T_a0c02_row9_col0\" class=\"data row9 col0\" >0.4772</td>\n",
       "      <td id=\"T_a0c02_row9_col1\" class=\"data row9 col1\" >0.8306</td>\n",
       "      <td id=\"T_a0c02_row9_col2\" class=\"data row9 col2\" >0.4762</td>\n",
       "      <td id=\"T_a0c02_row9_col3\" class=\"data row9 col3\" >0.4607</td>\n",
       "      <td id=\"T_a0c02_row9_col4\" class=\"data row9 col4\" >0.4641</td>\n",
       "      <td id=\"T_a0c02_row9_col5\" class=\"data row9 col5\" >0.4000</td>\n",
       "      <td id=\"T_a0c02_row9_col6\" class=\"data row9 col6\" >0.4014</td>\n",
       "    </tr>\n",
       "    <tr>\n",
       "      <th id=\"T_a0c02_level0_row10\" class=\"row_heading level0 row10\" >Mean</th>\n",
       "      <td id=\"T_a0c02_row10_col0\" class=\"data row10 col0\" >0.4753</td>\n",
       "      <td id=\"T_a0c02_row10_col1\" class=\"data row10 col1\" >0.8374</td>\n",
       "      <td id=\"T_a0c02_row10_col2\" class=\"data row10 col2\" >0.4777</td>\n",
       "      <td id=\"T_a0c02_row10_col3\" class=\"data row10 col3\" >0.4695</td>\n",
       "      <td id=\"T_a0c02_row10_col4\" class=\"data row10 col4\" >0.4654</td>\n",
       "      <td id=\"T_a0c02_row10_col5\" class=\"data row10 col5\" >0.3990</td>\n",
       "      <td id=\"T_a0c02_row10_col6\" class=\"data row10 col6\" >0.4005</td>\n",
       "    </tr>\n",
       "    <tr>\n",
       "      <th id=\"T_a0c02_level0_row11\" class=\"row_heading level0 row11\" >Std</th>\n",
       "      <td id=\"T_a0c02_row11_col0\" class=\"data row11 col0\" >0.0205</td>\n",
       "      <td id=\"T_a0c02_row11_col1\" class=\"data row11 col1\" >0.0121</td>\n",
       "      <td id=\"T_a0c02_row11_col2\" class=\"data row11 col2\" >0.0207</td>\n",
       "      <td id=\"T_a0c02_row11_col3\" class=\"data row11 col3\" >0.0220</td>\n",
       "      <td id=\"T_a0c02_row11_col4\" class=\"data row11 col4\" >0.0204</td>\n",
       "      <td id=\"T_a0c02_row11_col5\" class=\"data row11 col5\" >0.0236</td>\n",
       "      <td id=\"T_a0c02_row11_col6\" class=\"data row11 col6\" >0.0238</td>\n",
       "    </tr>\n",
       "  </tbody>\n",
       "</table>\n"
      ],
      "text/plain": [
       "<pandas.io.formats.style.Styler at 0x1f897352bb0>"
      ]
     },
     "metadata": {},
     "output_type": "display_data"
    }
   ],
   "source": [
    "rf = create_model(\"rf\")"
   ]
  },
  {
   "cell_type": "markdown",
   "id": "9e4e2aa7",
   "metadata": {},
   "source": [
    "**Grandient Boosting Classifier (gbc)**\n",
    "\n",
    "Das gbc Modell erzielt im vergleich zum rf ein Modell eine leicht schlechtere Genauigkeit, sowie einen Recall und Precision."
   ]
  },
  {
   "cell_type": "code",
   "execution_count": 15,
   "id": "640750b3",
   "metadata": {},
   "outputs": [
    {
     "data": {
      "text/html": [
       "<style type=\"text/css\">\n",
       "#T_10206_row10_col0, #T_10206_row10_col1, #T_10206_row10_col2, #T_10206_row10_col3, #T_10206_row10_col4, #T_10206_row10_col5, #T_10206_row10_col6 {\n",
       "  background: yellow;\n",
       "}\n",
       "</style>\n",
       "<table id=\"T_10206\">\n",
       "  <thead>\n",
       "    <tr>\n",
       "      <th class=\"blank level0\" >&nbsp;</th>\n",
       "      <th id=\"T_10206_level0_col0\" class=\"col_heading level0 col0\" >Accuracy</th>\n",
       "      <th id=\"T_10206_level0_col1\" class=\"col_heading level0 col1\" >AUC</th>\n",
       "      <th id=\"T_10206_level0_col2\" class=\"col_heading level0 col2\" >Recall</th>\n",
       "      <th id=\"T_10206_level0_col3\" class=\"col_heading level0 col3\" >Prec.</th>\n",
       "      <th id=\"T_10206_level0_col4\" class=\"col_heading level0 col4\" >F1</th>\n",
       "      <th id=\"T_10206_level0_col5\" class=\"col_heading level0 col5\" >Kappa</th>\n",
       "      <th id=\"T_10206_level0_col6\" class=\"col_heading level0 col6\" >MCC</th>\n",
       "    </tr>\n",
       "    <tr>\n",
       "      <th class=\"index_name level0\" >Fold</th>\n",
       "      <th class=\"blank col0\" >&nbsp;</th>\n",
       "      <th class=\"blank col1\" >&nbsp;</th>\n",
       "      <th class=\"blank col2\" >&nbsp;</th>\n",
       "      <th class=\"blank col3\" >&nbsp;</th>\n",
       "      <th class=\"blank col4\" >&nbsp;</th>\n",
       "      <th class=\"blank col5\" >&nbsp;</th>\n",
       "      <th class=\"blank col6\" >&nbsp;</th>\n",
       "    </tr>\n",
       "  </thead>\n",
       "  <tbody>\n",
       "    <tr>\n",
       "      <th id=\"T_10206_level0_row0\" class=\"row_heading level0 row0\" >0</th>\n",
       "      <td id=\"T_10206_row0_col0\" class=\"data row0 col0\" >0.5017</td>\n",
       "      <td id=\"T_10206_row0_col1\" class=\"data row0 col1\" >0.8512</td>\n",
       "      <td id=\"T_10206_row0_col2\" class=\"data row0 col2\" >0.5052</td>\n",
       "      <td id=\"T_10206_row0_col3\" class=\"data row0 col3\" >0.4926</td>\n",
       "      <td id=\"T_10206_row0_col4\" class=\"data row0 col4\" >0.4895</td>\n",
       "      <td id=\"T_10206_row0_col5\" class=\"data row0 col5\" >0.4291</td>\n",
       "      <td id=\"T_10206_row0_col6\" class=\"data row0 col6\" >0.4308</td>\n",
       "    </tr>\n",
       "    <tr>\n",
       "      <th id=\"T_10206_level0_row1\" class=\"row_heading level0 row1\" >1</th>\n",
       "      <td id=\"T_10206_row1_col0\" class=\"data row1 col0\" >0.4553</td>\n",
       "      <td id=\"T_10206_row1_col1\" class=\"data row1 col1\" >0.8359</td>\n",
       "      <td id=\"T_10206_row1_col2\" class=\"data row1 col2\" >0.4545</td>\n",
       "      <td id=\"T_10206_row1_col3\" class=\"data row1 col3\" >0.4460</td>\n",
       "      <td id=\"T_10206_row1_col4\" class=\"data row1 col4\" >0.4445</td>\n",
       "      <td id=\"T_10206_row1_col5\" class=\"data row1 col5\" >0.3760</td>\n",
       "      <td id=\"T_10206_row1_col6\" class=\"data row1 col6\" >0.3775</td>\n",
       "    </tr>\n",
       "    <tr>\n",
       "      <th id=\"T_10206_level0_row2\" class=\"row_heading level0 row2\" >2</th>\n",
       "      <td id=\"T_10206_row2_col0\" class=\"data row2 col0\" >0.4823</td>\n",
       "      <td id=\"T_10206_row2_col1\" class=\"data row2 col1\" >0.8488</td>\n",
       "      <td id=\"T_10206_row2_col2\" class=\"data row2 col2\" >0.4858</td>\n",
       "      <td id=\"T_10206_row2_col3\" class=\"data row2 col3\" >0.4765</td>\n",
       "      <td id=\"T_10206_row2_col4\" class=\"data row2 col4\" >0.4752</td>\n",
       "      <td id=\"T_10206_row2_col5\" class=\"data row2 col5\" >0.4078</td>\n",
       "      <td id=\"T_10206_row2_col6\" class=\"data row2 col6\" >0.4090</td>\n",
       "    </tr>\n",
       "    <tr>\n",
       "      <th id=\"T_10206_level0_row3\" class=\"row_heading level0 row3\" >3</th>\n",
       "      <td id=\"T_10206_row3_col0\" class=\"data row3 col0\" >0.4975</td>\n",
       "      <td id=\"T_10206_row3_col1\" class=\"data row3 col1\" >0.8503</td>\n",
       "      <td id=\"T_10206_row3_col2\" class=\"data row3 col2\" >0.4993</td>\n",
       "      <td id=\"T_10206_row3_col3\" class=\"data row3 col3\" >0.4933</td>\n",
       "      <td id=\"T_10206_row3_col4\" class=\"data row3 col4\" >0.4918</td>\n",
       "      <td id=\"T_10206_row3_col5\" class=\"data row3 col5\" >0.4244</td>\n",
       "      <td id=\"T_10206_row3_col6\" class=\"data row3 col6\" >0.4253</td>\n",
       "    </tr>\n",
       "    <tr>\n",
       "      <th id=\"T_10206_level0_row4\" class=\"row_heading level0 row4\" >4</th>\n",
       "      <td id=\"T_10206_row4_col0\" class=\"data row4 col0\" >0.4418</td>\n",
       "      <td id=\"T_10206_row4_col1\" class=\"data row4 col1\" >0.8311</td>\n",
       "      <td id=\"T_10206_row4_col2\" class=\"data row4 col2\" >0.4421</td>\n",
       "      <td id=\"T_10206_row4_col3\" class=\"data row4 col3\" >0.4374</td>\n",
       "      <td id=\"T_10206_row4_col4\" class=\"data row4 col4\" >0.4332</td>\n",
       "      <td id=\"T_10206_row4_col5\" class=\"data row4 col5\" >0.3606</td>\n",
       "      <td id=\"T_10206_row4_col6\" class=\"data row4 col6\" >0.3621</td>\n",
       "    </tr>\n",
       "    <tr>\n",
       "      <th id=\"T_10206_level0_row5\" class=\"row_heading level0 row5\" >5</th>\n",
       "      <td id=\"T_10206_row5_col0\" class=\"data row5 col0\" >0.4519</td>\n",
       "      <td id=\"T_10206_row5_col1\" class=\"data row5 col1\" >0.8361</td>\n",
       "      <td id=\"T_10206_row5_col2\" class=\"data row5 col2\" >0.4501</td>\n",
       "      <td id=\"T_10206_row5_col3\" class=\"data row5 col3\" >0.4443</td>\n",
       "      <td id=\"T_10206_row5_col4\" class=\"data row5 col4\" >0.4454</td>\n",
       "      <td id=\"T_10206_row5_col5\" class=\"data row5 col5\" >0.3722</td>\n",
       "      <td id=\"T_10206_row5_col6\" class=\"data row5 col6\" >0.3729</td>\n",
       "    </tr>\n",
       "    <tr>\n",
       "      <th id=\"T_10206_level0_row6\" class=\"row_heading level0 row6\" >6</th>\n",
       "      <td id=\"T_10206_row6_col0\" class=\"data row6 col0\" >0.5008</td>\n",
       "      <td id=\"T_10206_row6_col1\" class=\"data row6 col1\" >0.8581</td>\n",
       "      <td id=\"T_10206_row6_col2\" class=\"data row6 col2\" >0.5008</td>\n",
       "      <td id=\"T_10206_row6_col3\" class=\"data row6 col3\" >0.4914</td>\n",
       "      <td id=\"T_10206_row6_col4\" class=\"data row6 col4\" >0.4895</td>\n",
       "      <td id=\"T_10206_row6_col5\" class=\"data row6 col5\" >0.4279</td>\n",
       "      <td id=\"T_10206_row6_col6\" class=\"data row6 col6\" >0.4296</td>\n",
       "    </tr>\n",
       "    <tr>\n",
       "      <th id=\"T_10206_level0_row7\" class=\"row_heading level0 row7\" >7</th>\n",
       "      <td id=\"T_10206_row7_col0\" class=\"data row7 col0\" >0.4519</td>\n",
       "      <td id=\"T_10206_row7_col1\" class=\"data row7 col1\" >0.8396</td>\n",
       "      <td id=\"T_10206_row7_col2\" class=\"data row7 col2\" >0.4506</td>\n",
       "      <td id=\"T_10206_row7_col3\" class=\"data row7 col3\" >0.4558</td>\n",
       "      <td id=\"T_10206_row7_col4\" class=\"data row7 col4\" >0.4480</td>\n",
       "      <td id=\"T_10206_row7_col5\" class=\"data row7 col5\" >0.3720</td>\n",
       "      <td id=\"T_10206_row7_col6\" class=\"data row7 col6\" >0.3733</td>\n",
       "    </tr>\n",
       "    <tr>\n",
       "      <th id=\"T_10206_level0_row8\" class=\"row_heading level0 row8\" >8</th>\n",
       "      <td id=\"T_10206_row8_col0\" class=\"data row8 col0\" >0.4840</td>\n",
       "      <td id=\"T_10206_row8_col1\" class=\"data row8 col1\" >0.8420</td>\n",
       "      <td id=\"T_10206_row8_col2\" class=\"data row8 col2\" >0.4848</td>\n",
       "      <td id=\"T_10206_row8_col3\" class=\"data row8 col3\" >0.4770</td>\n",
       "      <td id=\"T_10206_row8_col4\" class=\"data row8 col4\" >0.4759</td>\n",
       "      <td id=\"T_10206_row8_col5\" class=\"data row8 col5\" >0.4089</td>\n",
       "      <td id=\"T_10206_row8_col6\" class=\"data row8 col6\" >0.4099</td>\n",
       "    </tr>\n",
       "    <tr>\n",
       "      <th id=\"T_10206_level0_row9\" class=\"row_heading level0 row9\" >9</th>\n",
       "      <td id=\"T_10206_row9_col0\" class=\"data row9 col0\" >0.4705</td>\n",
       "      <td id=\"T_10206_row9_col1\" class=\"data row9 col1\" >0.8409</td>\n",
       "      <td id=\"T_10206_row9_col2\" class=\"data row9 col2\" >0.4675</td>\n",
       "      <td id=\"T_10206_row9_col3\" class=\"data row9 col3\" >0.4559</td>\n",
       "      <td id=\"T_10206_row9_col4\" class=\"data row9 col4\" >0.4575</td>\n",
       "      <td id=\"T_10206_row9_col5\" class=\"data row9 col5\" >0.3923</td>\n",
       "      <td id=\"T_10206_row9_col6\" class=\"data row9 col6\" >0.3938</td>\n",
       "    </tr>\n",
       "    <tr>\n",
       "      <th id=\"T_10206_level0_row10\" class=\"row_heading level0 row10\" >Mean</th>\n",
       "      <td id=\"T_10206_row10_col0\" class=\"data row10 col0\" >0.4738</td>\n",
       "      <td id=\"T_10206_row10_col1\" class=\"data row10 col1\" >0.8434</td>\n",
       "      <td id=\"T_10206_row10_col2\" class=\"data row10 col2\" >0.4741</td>\n",
       "      <td id=\"T_10206_row10_col3\" class=\"data row10 col3\" >0.4670</td>\n",
       "      <td id=\"T_10206_row10_col4\" class=\"data row10 col4\" >0.4651</td>\n",
       "      <td id=\"T_10206_row10_col5\" class=\"data row10 col5\" >0.3971</td>\n",
       "      <td id=\"T_10206_row10_col6\" class=\"data row10 col6\" >0.3984</td>\n",
       "    </tr>\n",
       "    <tr>\n",
       "      <th id=\"T_10206_level0_row11\" class=\"row_heading level0 row11\" >Std</th>\n",
       "      <td id=\"T_10206_row11_col0\" class=\"data row11 col0\" >0.0214</td>\n",
       "      <td id=\"T_10206_row11_col1\" class=\"data row11 col1\" >0.0080</td>\n",
       "      <td id=\"T_10206_row11_col2\" class=\"data row11 col2\" >0.0227</td>\n",
       "      <td id=\"T_10206_row11_col3\" class=\"data row11 col3\" >0.0205</td>\n",
       "      <td id=\"T_10206_row11_col4\" class=\"data row11 col4\" >0.0208</td>\n",
       "      <td id=\"T_10206_row11_col5\" class=\"data row11 col5\" >0.0246</td>\n",
       "      <td id=\"T_10206_row11_col6\" class=\"data row11 col6\" >0.0246</td>\n",
       "    </tr>\n",
       "  </tbody>\n",
       "</table>\n"
      ],
      "text/plain": [
       "<pandas.io.formats.style.Styler at 0x1f8973af1c0>"
      ]
     },
     "metadata": {},
     "output_type": "display_data"
    }
   ],
   "source": [
    "gbc = create_model(\"gbc\")"
   ]
  },
  {
   "cell_type": "markdown",
   "id": "594e1449",
   "metadata": {},
   "source": [
    "**Light Gradient Boosting Machine** **(lgbm)**\n",
    "\n",
    "Das lgbm Modell ist ebenfalls leicht schlechter als das rf Modell. Lediglich der F-Score ist besser beim lgbm Modell. "
   ]
  },
  {
   "cell_type": "code",
   "execution_count": 16,
   "id": "b05f68cb",
   "metadata": {},
   "outputs": [
    {
     "data": {
      "text/html": [
       "<style type=\"text/css\">\n",
       "#T_005ab_row10_col0, #T_005ab_row10_col1, #T_005ab_row10_col2, #T_005ab_row10_col3, #T_005ab_row10_col4, #T_005ab_row10_col5, #T_005ab_row10_col6 {\n",
       "  background: yellow;\n",
       "}\n",
       "</style>\n",
       "<table id=\"T_005ab\">\n",
       "  <thead>\n",
       "    <tr>\n",
       "      <th class=\"blank level0\" >&nbsp;</th>\n",
       "      <th id=\"T_005ab_level0_col0\" class=\"col_heading level0 col0\" >Accuracy</th>\n",
       "      <th id=\"T_005ab_level0_col1\" class=\"col_heading level0 col1\" >AUC</th>\n",
       "      <th id=\"T_005ab_level0_col2\" class=\"col_heading level0 col2\" >Recall</th>\n",
       "      <th id=\"T_005ab_level0_col3\" class=\"col_heading level0 col3\" >Prec.</th>\n",
       "      <th id=\"T_005ab_level0_col4\" class=\"col_heading level0 col4\" >F1</th>\n",
       "      <th id=\"T_005ab_level0_col5\" class=\"col_heading level0 col5\" >Kappa</th>\n",
       "      <th id=\"T_005ab_level0_col6\" class=\"col_heading level0 col6\" >MCC</th>\n",
       "    </tr>\n",
       "    <tr>\n",
       "      <th class=\"index_name level0\" >Fold</th>\n",
       "      <th class=\"blank col0\" >&nbsp;</th>\n",
       "      <th class=\"blank col1\" >&nbsp;</th>\n",
       "      <th class=\"blank col2\" >&nbsp;</th>\n",
       "      <th class=\"blank col3\" >&nbsp;</th>\n",
       "      <th class=\"blank col4\" >&nbsp;</th>\n",
       "      <th class=\"blank col5\" >&nbsp;</th>\n",
       "      <th class=\"blank col6\" >&nbsp;</th>\n",
       "    </tr>\n",
       "  </thead>\n",
       "  <tbody>\n",
       "    <tr>\n",
       "      <th id=\"T_005ab_level0_row0\" class=\"row_heading level0 row0\" >0</th>\n",
       "      <td id=\"T_005ab_row0_col0\" class=\"data row0 col0\" >0.4916</td>\n",
       "      <td id=\"T_005ab_row0_col1\" class=\"data row0 col1\" >0.8491</td>\n",
       "      <td id=\"T_005ab_row0_col2\" class=\"data row0 col2\" >0.4935</td>\n",
       "      <td id=\"T_005ab_row0_col3\" class=\"data row0 col3\" >0.4835</td>\n",
       "      <td id=\"T_005ab_row0_col4\" class=\"data row0 col4\" >0.4854</td>\n",
       "      <td id=\"T_005ab_row0_col5\" class=\"data row0 col5\" >0.4174</td>\n",
       "      <td id=\"T_005ab_row0_col6\" class=\"data row0 col6\" >0.4180</td>\n",
       "    </tr>\n",
       "    <tr>\n",
       "      <th id=\"T_005ab_level0_row1\" class=\"row_heading level0 row1\" >1</th>\n",
       "      <td id=\"T_005ab_row1_col0\" class=\"data row1 col0\" >0.4772</td>\n",
       "      <td id=\"T_005ab_row1_col1\" class=\"data row1 col1\" >0.8310</td>\n",
       "      <td id=\"T_005ab_row1_col2\" class=\"data row1 col2\" >0.4791</td>\n",
       "      <td id=\"T_005ab_row1_col3\" class=\"data row1 col3\" >0.4737</td>\n",
       "      <td id=\"T_005ab_row1_col4\" class=\"data row1 col4\" >0.4728</td>\n",
       "      <td id=\"T_005ab_row1_col5\" class=\"data row1 col5\" >0.4008</td>\n",
       "      <td id=\"T_005ab_row1_col6\" class=\"data row1 col6\" >0.4016</td>\n",
       "    </tr>\n",
       "    <tr>\n",
       "      <th id=\"T_005ab_level0_row2\" class=\"row_heading level0 row2\" >2</th>\n",
       "      <td id=\"T_005ab_row2_col0\" class=\"data row2 col0\" >0.4739</td>\n",
       "      <td id=\"T_005ab_row2_col1\" class=\"data row2 col1\" >0.8591</td>\n",
       "      <td id=\"T_005ab_row2_col2\" class=\"data row2 col2\" >0.4736</td>\n",
       "      <td id=\"T_005ab_row2_col3\" class=\"data row2 col3\" >0.4734</td>\n",
       "      <td id=\"T_005ab_row2_col4\" class=\"data row2 col4\" >0.4723</td>\n",
       "      <td id=\"T_005ab_row2_col5\" class=\"data row2 col5\" >0.3971</td>\n",
       "      <td id=\"T_005ab_row2_col6\" class=\"data row2 col6\" >0.3975</td>\n",
       "    </tr>\n",
       "    <tr>\n",
       "      <th id=\"T_005ab_level0_row3\" class=\"row_heading level0 row3\" >3</th>\n",
       "      <td id=\"T_005ab_row3_col0\" class=\"data row3 col0\" >0.4671</td>\n",
       "      <td id=\"T_005ab_row3_col1\" class=\"data row3 col1\" >0.8500</td>\n",
       "      <td id=\"T_005ab_row3_col2\" class=\"data row3 col2\" >0.4675</td>\n",
       "      <td id=\"T_005ab_row3_col3\" class=\"data row3 col3\" >0.4607</td>\n",
       "      <td id=\"T_005ab_row3_col4\" class=\"data row3 col4\" >0.4599</td>\n",
       "      <td id=\"T_005ab_row3_col5\" class=\"data row3 col5\" >0.3892</td>\n",
       "      <td id=\"T_005ab_row3_col6\" class=\"data row3 col6\" >0.3901</td>\n",
       "    </tr>\n",
       "    <tr>\n",
       "      <th id=\"T_005ab_level0_row4\" class=\"row_heading level0 row4\" >4</th>\n",
       "      <td id=\"T_005ab_row4_col0\" class=\"data row4 col0\" >0.4621</td>\n",
       "      <td id=\"T_005ab_row4_col1\" class=\"data row4 col1\" >0.8273</td>\n",
       "      <td id=\"T_005ab_row4_col2\" class=\"data row4 col2\" >0.4634</td>\n",
       "      <td id=\"T_005ab_row4_col3\" class=\"data row4 col3\" >0.4523</td>\n",
       "      <td id=\"T_005ab_row4_col4\" class=\"data row4 col4\" >0.4542</td>\n",
       "      <td id=\"T_005ab_row4_col5\" class=\"data row4 col5\" >0.3833</td>\n",
       "      <td id=\"T_005ab_row4_col6\" class=\"data row4 col6\" >0.3840</td>\n",
       "    </tr>\n",
       "    <tr>\n",
       "      <th id=\"T_005ab_level0_row5\" class=\"row_heading level0 row5\" >5</th>\n",
       "      <td id=\"T_005ab_row5_col0\" class=\"data row5 col0\" >0.4587</td>\n",
       "      <td id=\"T_005ab_row5_col1\" class=\"data row5 col1\" >0.8364</td>\n",
       "      <td id=\"T_005ab_row5_col2\" class=\"data row5 col2\" >0.4595</td>\n",
       "      <td id=\"T_005ab_row5_col3\" class=\"data row5 col3\" >0.4520</td>\n",
       "      <td id=\"T_005ab_row5_col4\" class=\"data row5 col4\" >0.4536</td>\n",
       "      <td id=\"T_005ab_row5_col5\" class=\"data row5 col5\" >0.3797</td>\n",
       "      <td id=\"T_005ab_row5_col6\" class=\"data row5 col6\" >0.3802</td>\n",
       "    </tr>\n",
       "    <tr>\n",
       "      <th id=\"T_005ab_level0_row6\" class=\"row_heading level0 row6\" >6</th>\n",
       "      <td id=\"T_005ab_row6_col0\" class=\"data row6 col0\" >0.5025</td>\n",
       "      <td id=\"T_005ab_row6_col1\" class=\"data row6 col1\" >0.8514</td>\n",
       "      <td id=\"T_005ab_row6_col2\" class=\"data row6 col2\" >0.5042</td>\n",
       "      <td id=\"T_005ab_row6_col3\" class=\"data row6 col3\" >0.5003</td>\n",
       "      <td id=\"T_005ab_row6_col4\" class=\"data row6 col4\" >0.4968</td>\n",
       "      <td id=\"T_005ab_row6_col5\" class=\"data row6 col5\" >0.4300</td>\n",
       "      <td id=\"T_005ab_row6_col6\" class=\"data row6 col6\" >0.4311</td>\n",
       "    </tr>\n",
       "    <tr>\n",
       "      <th id=\"T_005ab_level0_row7\" class=\"row_heading level0 row7\" >7</th>\n",
       "      <td id=\"T_005ab_row7_col0\" class=\"data row7 col0\" >0.4688</td>\n",
       "      <td id=\"T_005ab_row7_col1\" class=\"data row7 col1\" >0.8427</td>\n",
       "      <td id=\"T_005ab_row7_col2\" class=\"data row7 col2\" >0.4658</td>\n",
       "      <td id=\"T_005ab_row7_col3\" class=\"data row7 col3\" >0.4658</td>\n",
       "      <td id=\"T_005ab_row7_col4\" class=\"data row7 col4\" >0.4643</td>\n",
       "      <td id=\"T_005ab_row7_col5\" class=\"data row7 col5\" >0.3904</td>\n",
       "      <td id=\"T_005ab_row7_col6\" class=\"data row7 col6\" >0.3912</td>\n",
       "    </tr>\n",
       "    <tr>\n",
       "      <th id=\"T_005ab_level0_row8\" class=\"row_heading level0 row8\" >8</th>\n",
       "      <td id=\"T_005ab_row8_col0\" class=\"data row8 col0\" >0.4772</td>\n",
       "      <td id=\"T_005ab_row8_col1\" class=\"data row8 col1\" >0.8400</td>\n",
       "      <td id=\"T_005ab_row8_col2\" class=\"data row8 col2\" >0.4737</td>\n",
       "      <td id=\"T_005ab_row8_col3\" class=\"data row8 col3\" >0.4694</td>\n",
       "      <td id=\"T_005ab_row8_col4\" class=\"data row8 col4\" >0.4716</td>\n",
       "      <td id=\"T_005ab_row8_col5\" class=\"data row8 col5\" >0.4006</td>\n",
       "      <td id=\"T_005ab_row8_col6\" class=\"data row8 col6\" >0.4011</td>\n",
       "    </tr>\n",
       "    <tr>\n",
       "      <th id=\"T_005ab_level0_row9\" class=\"row_heading level0 row9\" >9</th>\n",
       "      <td id=\"T_005ab_row9_col0\" class=\"data row9 col0\" >0.4503</td>\n",
       "      <td id=\"T_005ab_row9_col1\" class=\"data row9 col1\" >0.8369</td>\n",
       "      <td id=\"T_005ab_row9_col2\" class=\"data row9 col2\" >0.4454</td>\n",
       "      <td id=\"T_005ab_row9_col3\" class=\"data row9 col3\" >0.4384</td>\n",
       "      <td id=\"T_005ab_row9_col4\" class=\"data row9 col4\" >0.4420</td>\n",
       "      <td id=\"T_005ab_row9_col5\" class=\"data row9 col5\" >0.3683</td>\n",
       "      <td id=\"T_005ab_row9_col6\" class=\"data row9 col6\" >0.3690</td>\n",
       "    </tr>\n",
       "    <tr>\n",
       "      <th id=\"T_005ab_level0_row10\" class=\"row_heading level0 row10\" >Mean</th>\n",
       "      <td id=\"T_005ab_row10_col0\" class=\"data row10 col0\" >0.4729</td>\n",
       "      <td id=\"T_005ab_row10_col1\" class=\"data row10 col1\" >0.8424</td>\n",
       "      <td id=\"T_005ab_row10_col2\" class=\"data row10 col2\" >0.4726</td>\n",
       "      <td id=\"T_005ab_row10_col3\" class=\"data row10 col3\" >0.4669</td>\n",
       "      <td id=\"T_005ab_row10_col4\" class=\"data row10 col4\" >0.4673</td>\n",
       "      <td id=\"T_005ab_row10_col5\" class=\"data row10 col5\" >0.3957</td>\n",
       "      <td id=\"T_005ab_row10_col6\" class=\"data row10 col6\" >0.3964</td>\n",
       "    </tr>\n",
       "    <tr>\n",
       "      <th id=\"T_005ab_level0_row11\" class=\"row_heading level0 row11\" >Std</th>\n",
       "      <td id=\"T_005ab_row11_col0\" class=\"data row11 col0\" >0.0147</td>\n",
       "      <td id=\"T_005ab_row11_col1\" class=\"data row11 col1\" >0.0094</td>\n",
       "      <td id=\"T_005ab_row11_col2\" class=\"data row11 col2\" >0.0160</td>\n",
       "      <td id=\"T_005ab_row11_col3\" class=\"data row11 col3\" >0.0167</td>\n",
       "      <td id=\"T_005ab_row11_col4\" class=\"data row11 col4\" >0.0153</td>\n",
       "      <td id=\"T_005ab_row11_col5\" class=\"data row11 col5\" >0.0171</td>\n",
       "      <td id=\"T_005ab_row11_col6\" class=\"data row11 col6\" >0.0172</td>\n",
       "    </tr>\n",
       "  </tbody>\n",
       "</table>\n"
      ],
      "text/plain": [
       "<pandas.io.formats.style.Styler at 0x1f897318c40>"
      ]
     },
     "metadata": {},
     "output_type": "display_data"
    }
   ],
   "source": [
    "lightgbm = create_model(\"lightgbm\")"
   ]
  },
  {
   "cell_type": "markdown",
   "id": "54c7f7bc",
   "metadata": {},
   "source": [
    "**Modell Verbesserung**\n",
    "\n",
    "Mit der *tune\\_model()* Funktion können die Hyperparameter der Modelle angepasst werden, um somit die bestmöglichen Parameter der Modelle herauszufinden. "
   ]
  },
  {
   "cell_type": "code",
   "execution_count": 17,
   "id": "026dadff",
   "metadata": {},
   "outputs": [
    {
     "data": {
      "text/html": [
       "<style type=\"text/css\">\n",
       "#T_6931d_row10_col0, #T_6931d_row10_col1, #T_6931d_row10_col2, #T_6931d_row10_col3, #T_6931d_row10_col4, #T_6931d_row10_col5, #T_6931d_row10_col6 {\n",
       "  background: yellow;\n",
       "}\n",
       "</style>\n",
       "<table id=\"T_6931d\">\n",
       "  <thead>\n",
       "    <tr>\n",
       "      <th class=\"blank level0\" >&nbsp;</th>\n",
       "      <th id=\"T_6931d_level0_col0\" class=\"col_heading level0 col0\" >Accuracy</th>\n",
       "      <th id=\"T_6931d_level0_col1\" class=\"col_heading level0 col1\" >AUC</th>\n",
       "      <th id=\"T_6931d_level0_col2\" class=\"col_heading level0 col2\" >Recall</th>\n",
       "      <th id=\"T_6931d_level0_col3\" class=\"col_heading level0 col3\" >Prec.</th>\n",
       "      <th id=\"T_6931d_level0_col4\" class=\"col_heading level0 col4\" >F1</th>\n",
       "      <th id=\"T_6931d_level0_col5\" class=\"col_heading level0 col5\" >Kappa</th>\n",
       "      <th id=\"T_6931d_level0_col6\" class=\"col_heading level0 col6\" >MCC</th>\n",
       "    </tr>\n",
       "    <tr>\n",
       "      <th class=\"index_name level0\" >Fold</th>\n",
       "      <th class=\"blank col0\" >&nbsp;</th>\n",
       "      <th class=\"blank col1\" >&nbsp;</th>\n",
       "      <th class=\"blank col2\" >&nbsp;</th>\n",
       "      <th class=\"blank col3\" >&nbsp;</th>\n",
       "      <th class=\"blank col4\" >&nbsp;</th>\n",
       "      <th class=\"blank col5\" >&nbsp;</th>\n",
       "      <th class=\"blank col6\" >&nbsp;</th>\n",
       "    </tr>\n",
       "  </thead>\n",
       "  <tbody>\n",
       "    <tr>\n",
       "      <th id=\"T_6931d_level0_row0\" class=\"row_heading level0 row0\" >0</th>\n",
       "      <td id=\"T_6931d_row0_col0\" class=\"data row0 col0\" >0.4899</td>\n",
       "      <td id=\"T_6931d_row0_col1\" class=\"data row0 col1\" >0.8477</td>\n",
       "      <td id=\"T_6931d_row0_col2\" class=\"data row0 col2\" >0.4972</td>\n",
       "      <td id=\"T_6931d_row0_col3\" class=\"data row0 col3\" >0.4871</td>\n",
       "      <td id=\"T_6931d_row0_col4\" class=\"data row0 col4\" >0.4741</td>\n",
       "      <td id=\"T_6931d_row0_col5\" class=\"data row0 col5\" >0.4160</td>\n",
       "      <td id=\"T_6931d_row0_col6\" class=\"data row0 col6\" >0.4188</td>\n",
       "    </tr>\n",
       "    <tr>\n",
       "      <th id=\"T_6931d_level0_row1\" class=\"row_heading level0 row1\" >1</th>\n",
       "      <td id=\"T_6931d_row1_col0\" class=\"data row1 col0\" >0.4519</td>\n",
       "      <td id=\"T_6931d_row1_col1\" class=\"data row1 col1\" >0.8291</td>\n",
       "      <td id=\"T_6931d_row1_col2\" class=\"data row1 col2\" >0.4604</td>\n",
       "      <td id=\"T_6931d_row1_col3\" class=\"data row1 col3\" >0.4502</td>\n",
       "      <td id=\"T_6931d_row1_col4\" class=\"data row1 col4\" >0.4352</td>\n",
       "      <td id=\"T_6931d_row1_col5\" class=\"data row1 col5\" >0.3724</td>\n",
       "      <td id=\"T_6931d_row1_col6\" class=\"data row1 col6\" >0.3751</td>\n",
       "    </tr>\n",
       "    <tr>\n",
       "      <th id=\"T_6931d_level0_row2\" class=\"row_heading level0 row2\" >2</th>\n",
       "      <td id=\"T_6931d_row2_col0\" class=\"data row2 col0\" >0.4890</td>\n",
       "      <td id=\"T_6931d_row2_col1\" class=\"data row2 col1\" >0.8566</td>\n",
       "      <td id=\"T_6931d_row2_col2\" class=\"data row2 col2\" >0.4936</td>\n",
       "      <td id=\"T_6931d_row2_col3\" class=\"data row2 col3\" >0.4908</td>\n",
       "      <td id=\"T_6931d_row2_col4\" class=\"data row2 col4\" >0.4792</td>\n",
       "      <td id=\"T_6931d_row2_col5\" class=\"data row2 col5\" >0.4156</td>\n",
       "      <td id=\"T_6931d_row2_col6\" class=\"data row2 col6\" >0.4181</td>\n",
       "    </tr>\n",
       "    <tr>\n",
       "      <th id=\"T_6931d_level0_row3\" class=\"row_heading level0 row3\" >3</th>\n",
       "      <td id=\"T_6931d_row3_col0\" class=\"data row3 col0\" >0.4823</td>\n",
       "      <td id=\"T_6931d_row3_col1\" class=\"data row3 col1\" >0.8486</td>\n",
       "      <td id=\"T_6931d_row3_col2\" class=\"data row3 col2\" >0.4856</td>\n",
       "      <td id=\"T_6931d_row3_col3\" class=\"data row3 col3\" >0.4865</td>\n",
       "      <td id=\"T_6931d_row3_col4\" class=\"data row3 col4\" >0.4746</td>\n",
       "      <td id=\"T_6931d_row3_col5\" class=\"data row3 col5\" >0.4072</td>\n",
       "      <td id=\"T_6931d_row3_col6\" class=\"data row3 col6\" >0.4092</td>\n",
       "    </tr>\n",
       "    <tr>\n",
       "      <th id=\"T_6931d_level0_row4\" class=\"row_heading level0 row4\" >4</th>\n",
       "      <td id=\"T_6931d_row4_col0\" class=\"data row4 col0\" >0.4384</td>\n",
       "      <td id=\"T_6931d_row4_col1\" class=\"data row4 col1\" >0.8364</td>\n",
       "      <td id=\"T_6931d_row4_col2\" class=\"data row4 col2\" >0.4451</td>\n",
       "      <td id=\"T_6931d_row4_col3\" class=\"data row4 col3\" >0.4337</td>\n",
       "      <td id=\"T_6931d_row4_col4\" class=\"data row4 col4\" >0.4227</td>\n",
       "      <td id=\"T_6931d_row4_col5\" class=\"data row4 col5\" >0.3577</td>\n",
       "      <td id=\"T_6931d_row4_col6\" class=\"data row4 col6\" >0.3608</td>\n",
       "    </tr>\n",
       "    <tr>\n",
       "      <th id=\"T_6931d_level0_row5\" class=\"row_heading level0 row5\" >5</th>\n",
       "      <td id=\"T_6931d_row5_col0\" class=\"data row5 col0\" >0.4553</td>\n",
       "      <td id=\"T_6931d_row5_col1\" class=\"data row5 col1\" >0.8392</td>\n",
       "      <td id=\"T_6931d_row5_col2\" class=\"data row5 col2\" >0.4544</td>\n",
       "      <td id=\"T_6931d_row5_col3\" class=\"data row5 col3\" >0.4489</td>\n",
       "      <td id=\"T_6931d_row5_col4\" class=\"data row5 col4\" >0.4445</td>\n",
       "      <td id=\"T_6931d_row5_col5\" class=\"data row5 col5\" >0.3764</td>\n",
       "      <td id=\"T_6931d_row5_col6\" class=\"data row5 col6\" >0.3781</td>\n",
       "    </tr>\n",
       "    <tr>\n",
       "      <th id=\"T_6931d_level0_row6\" class=\"row_heading level0 row6\" >6</th>\n",
       "      <td id=\"T_6931d_row6_col0\" class=\"data row6 col0\" >0.4890</td>\n",
       "      <td id=\"T_6931d_row6_col1\" class=\"data row6 col1\" >0.8629</td>\n",
       "      <td id=\"T_6931d_row6_col2\" class=\"data row6 col2\" >0.4908</td>\n",
       "      <td id=\"T_6931d_row6_col3\" class=\"data row6 col3\" >0.5033</td>\n",
       "      <td id=\"T_6931d_row6_col4\" class=\"data row6 col4\" >0.4719</td>\n",
       "      <td id=\"T_6931d_row6_col5\" class=\"data row6 col5\" >0.4150</td>\n",
       "      <td id=\"T_6931d_row6_col6\" class=\"data row6 col6\" >0.4189</td>\n",
       "    </tr>\n",
       "    <tr>\n",
       "      <th id=\"T_6931d_level0_row7\" class=\"row_heading level0 row7\" >7</th>\n",
       "      <td id=\"T_6931d_row7_col0\" class=\"data row7 col0\" >0.4486</td>\n",
       "      <td id=\"T_6931d_row7_col1\" class=\"data row7 col1\" >0.8428</td>\n",
       "      <td id=\"T_6931d_row7_col2\" class=\"data row7 col2\" >0.4500</td>\n",
       "      <td id=\"T_6931d_row7_col3\" class=\"data row7 col3\" >0.4603</td>\n",
       "      <td id=\"T_6931d_row7_col4\" class=\"data row7 col4\" >0.4370</td>\n",
       "      <td id=\"T_6931d_row7_col5\" class=\"data row7 col5\" >0.3688</td>\n",
       "      <td id=\"T_6931d_row7_col6\" class=\"data row7 col6\" >0.3715</td>\n",
       "    </tr>\n",
       "    <tr>\n",
       "      <th id=\"T_6931d_level0_row8\" class=\"row_heading level0 row8\" >8</th>\n",
       "      <td id=\"T_6931d_row8_col0\" class=\"data row8 col0\" >0.4739</td>\n",
       "      <td id=\"T_6931d_row8_col1\" class=\"data row8 col1\" >0.8414</td>\n",
       "      <td id=\"T_6931d_row8_col2\" class=\"data row8 col2\" >0.4745</td>\n",
       "      <td id=\"T_6931d_row8_col3\" class=\"data row8 col3\" >0.4734</td>\n",
       "      <td id=\"T_6931d_row8_col4\" class=\"data row8 col4\" >0.4624</td>\n",
       "      <td id=\"T_6931d_row8_col5\" class=\"data row8 col5\" >0.3975</td>\n",
       "      <td id=\"T_6931d_row8_col6\" class=\"data row8 col6\" >0.3996</td>\n",
       "    </tr>\n",
       "    <tr>\n",
       "      <th id=\"T_6931d_level0_row9\" class=\"row_heading level0 row9\" >9</th>\n",
       "      <td id=\"T_6931d_row9_col0\" class=\"data row9 col0\" >0.4536</td>\n",
       "      <td id=\"T_6931d_row9_col1\" class=\"data row9 col1\" >0.8358</td>\n",
       "      <td id=\"T_6931d_row9_col2\" class=\"data row9 col2\" >0.4536</td>\n",
       "      <td id=\"T_6931d_row9_col3\" class=\"data row9 col3\" >0.4390</td>\n",
       "      <td id=\"T_6931d_row9_col4\" class=\"data row9 col4\" >0.4316</td>\n",
       "      <td id=\"T_6931d_row9_col5\" class=\"data row9 col5\" >0.3736</td>\n",
       "      <td id=\"T_6931d_row9_col6\" class=\"data row9 col6\" >0.3766</td>\n",
       "    </tr>\n",
       "    <tr>\n",
       "      <th id=\"T_6931d_level0_row10\" class=\"row_heading level0 row10\" >Mean</th>\n",
       "      <td id=\"T_6931d_row10_col0\" class=\"data row10 col0\" >0.4672</td>\n",
       "      <td id=\"T_6931d_row10_col1\" class=\"data row10 col1\" >0.8440</td>\n",
       "      <td id=\"T_6931d_row10_col2\" class=\"data row10 col2\" >0.4705</td>\n",
       "      <td id=\"T_6931d_row10_col3\" class=\"data row10 col3\" >0.4673</td>\n",
       "      <td id=\"T_6931d_row10_col4\" class=\"data row10 col4\" >0.4533</td>\n",
       "      <td id=\"T_6931d_row10_col5\" class=\"data row10 col5\" >0.3900</td>\n",
       "      <td id=\"T_6931d_row10_col6\" class=\"data row10 col6\" >0.3927</td>\n",
       "    </tr>\n",
       "    <tr>\n",
       "      <th id=\"T_6931d_level0_row11\" class=\"row_heading level0 row11\" >Std</th>\n",
       "      <td id=\"T_6931d_row11_col0\" class=\"data row11 col0\" >0.0186</td>\n",
       "      <td id=\"T_6931d_row11_col1\" class=\"data row11 col1\" >0.0096</td>\n",
       "      <td id=\"T_6931d_row11_col2\" class=\"data row11 col2\" >0.0190</td>\n",
       "      <td id=\"T_6931d_row11_col3\" class=\"data row11 col3\" >0.0229</td>\n",
       "      <td id=\"T_6931d_row11_col4\" class=\"data row11 col4\" >0.0201</td>\n",
       "      <td id=\"T_6931d_row11_col5\" class=\"data row11 col5\" >0.0214</td>\n",
       "      <td id=\"T_6931d_row11_col6\" class=\"data row11 col6\" >0.0214</td>\n",
       "    </tr>\n",
       "  </tbody>\n",
       "</table>\n"
      ],
      "text/plain": [
       "<pandas.io.formats.style.Styler at 0x1f8971b88b0>"
      ]
     },
     "metadata": {},
     "output_type": "display_data"
    }
   ],
   "source": [
    "tuned_rf = tune_model(rf)"
   ]
  },
  {
   "cell_type": "markdown",
   "id": "623bcfc7",
   "metadata": {},
   "source": [
    "Nach dem Anpassen der Hyperparametern hab sich die Werte für das rf Modell verschlechtert und erzielt nur noch eine Genauigkeit von 0,4672. Ebenfalls hat der Wert für den Recall und Precision sich verschlechtert von 0.4777 auf 0,4705 und von 0,4695 auf 4,4673. "
   ]
  },
  {
   "cell_type": "code",
   "execution_count": null,
   "id": "3c6e61a7",
   "metadata": {},
   "outputs": [
    {
     "data": {
      "application/vnd.jupyter.widget-view+json": {
       "model_id": "27a3f2b4f4ab4efba23087552ffe2640",
       "version_major": 2,
       "version_minor": 0
      },
      "text/plain": [
       "IntProgress(value=0, description='Processing: ', max=7)"
      ]
     },
     "metadata": {},
     "output_type": "display_data"
    },
    {
     "data": {
      "text/html": [
       "<div>\n",
       "<style scoped>\n",
       "    .dataframe tbody tr th:only-of-type {\n",
       "        vertical-align: middle;\n",
       "    }\n",
       "\n",
       "    .dataframe tbody tr th {\n",
       "        vertical-align: top;\n",
       "    }\n",
       "\n",
       "    .dataframe thead th {\n",
       "        text-align: right;\n",
       "    }\n",
       "</style>\n",
       "<table border=\"1\" class=\"dataframe\">\n",
       "  <thead>\n",
       "    <tr style=\"text-align: right;\">\n",
       "      <th></th>\n",
       "      <th></th>\n",
       "      <th></th>\n",
       "    </tr>\n",
       "    <tr>\n",
       "      <th></th>\n",
       "      <th></th>\n",
       "      <th></th>\n",
       "    </tr>\n",
       "  </thead>\n",
       "  <tbody>\n",
       "    <tr>\n",
       "      <th>Initiated</th>\n",
       "      <td>. . . . . . . . . . . . . . . . . .</td>\n",
       "      <td>17:08:41</td>\n",
       "    </tr>\n",
       "    <tr>\n",
       "      <th>Status</th>\n",
       "      <td>. . . . . . . . . . . . . . . . . .</td>\n",
       "      <td>Searching Hyperparameters</td>\n",
       "    </tr>\n",
       "    <tr>\n",
       "      <th>Estimator</th>\n",
       "      <td>. . . . . . . . . . . . . . . . . .</td>\n",
       "      <td>Gradient Boosting Classifier</td>\n",
       "    </tr>\n",
       "  </tbody>\n",
       "</table>\n",
       "</div>"
      ],
      "text/plain": [
       "                                                                            \n",
       "                                                                            \n",
       "Initiated  . . . . . . . . . . . . . . . . . .                      17:08:41\n",
       "Status     . . . . . . . . . . . . . . . . . .     Searching Hyperparameters\n",
       "Estimator  . . . . . . . . . . . . . . . . . .  Gradient Boosting Classifier"
      ]
     },
     "metadata": {},
     "output_type": "display_data"
    },
    {
     "data": {
      "text/html": [
       "<div>\n",
       "<style scoped>\n",
       "    .dataframe tbody tr th:only-of-type {\n",
       "        vertical-align: middle;\n",
       "    }\n",
       "\n",
       "    .dataframe tbody tr th {\n",
       "        vertical-align: top;\n",
       "    }\n",
       "\n",
       "    .dataframe thead th {\n",
       "        text-align: right;\n",
       "    }\n",
       "</style>\n",
       "<table border=\"1\" class=\"dataframe\">\n",
       "  <thead>\n",
       "    <tr style=\"text-align: right;\">\n",
       "      <th></th>\n",
       "      <th>Fold</th>\n",
       "      <th>Accuracy</th>\n",
       "      <th>AUC</th>\n",
       "      <th>Recall</th>\n",
       "      <th>Prec.</th>\n",
       "      <th>F1</th>\n",
       "      <th>Kappa</th>\n",
       "      <th>MCC</th>\n",
       "    </tr>\n",
       "  </thead>\n",
       "  <tbody>\n",
       "  </tbody>\n",
       "</table>\n",
       "</div>"
      ],
      "text/plain": [
       "Empty DataFrame\n",
       "Columns: [Fold, Accuracy, AUC, Recall, Prec., F1, Kappa, MCC]\n",
       "Index: []"
      ]
     },
     "metadata": {},
     "output_type": "display_data"
    },
    {
     "name": "stdout",
     "output_type": "stream",
     "text": [
      "Fitting 10 folds for each of 10 candidates, totalling 100 fits\n"
     ]
    },
    {
     "name": "stderr",
     "output_type": "stream",
     "text": [
      "[Parallel(n_jobs=-1)]: Using backend LokyBackend with 4 concurrent workers.\n",
      "[Parallel(n_jobs=-1)]: Done  42 tasks      | elapsed:  4.8min\n"
     ]
    }
   ],
   "source": [
    "tuned_gbc = tune_model(gbc)"
   ]
  },
  {
   "cell_type": "markdown",
   "id": "09109a11",
   "metadata": {},
   "source": [
    "Durch die Anpassung der Hyperparameter haben sich alle Werte beim gbc Modell leicht verbessert. "
   ]
  },
  {
   "cell_type": "code",
   "execution_count": null,
   "id": "1cd46287",
   "metadata": {},
   "outputs": [],
   "source": [
    "tuned_lightgbm= tune_model(lightgbm)"
   ]
  },
  {
   "cell_type": "markdown",
   "id": "850951fc",
   "metadata": {},
   "source": [
    "Bei dem lgbm Modell hat sich nach der Anpassung die Genauigkeit, Recall und der F-Score leicht verbessert, allerdings hat sie die Precision von 0,4669 leicht auf 0,4653 verschlechtert"
   ]
  },
  {
   "cell_type": "markdown",
   "id": "a864ad38",
   "metadata": {},
   "source": [
    "Nach der Anpassung erzielt das gbc Modell die größte Genauigkeit."
   ]
  },
  {
   "cell_type": "markdown",
   "id": "0b4f05a7",
   "metadata": {},
   "source": [
    "**Plots**"
   ]
  },
  {
   "cell_type": "markdown",
   "id": "bddbce9e",
   "metadata": {},
   "source": [
    "In der Confusion Matrix lässt sich erkenne, dass Metal Songs am häufigsten richtig klassifiziert, werden konnten, während Lieder aus dem alternativen Genre am wenigsten korrekt klassifiziert wurden. Außerdem ist zu sehen, dass viele Lieder aus dem ‚Indie und dem Rock Genre fälschlicherweise als Alternativ klassifiziert wurden. Dies kann bedeuten, dass es eine gewisse Ähnlichkeit in den Genres gibt. Desweiterem ist zu erkennen, dass so gut wie keine Lieder aus dem Metal Genre, dem Hip-Hop und Pop Genre zugeordnet wurden. Ebenfalls wurden kaum Songs aus dem Hip-Hop und Pop Genre, dem Metal Genre zugeordnet. Dies kann bedeuten, dass es kaum Ähnlichkeiten innerhalb der Genres gibt. \n"
   ]
  },
  {
   "cell_type": "code",
   "execution_count": null,
   "id": "d9891fa8",
   "metadata": {},
   "outputs": [],
   "source": [
    "plot_model(tuned_gbc,plot=\"confusion_matrix\")"
   ]
  },
  {
   "cell_type": "markdown",
   "id": "b303bdb0",
   "metadata": {},
   "source": [
    "In dem Class Report Diagramm, lässt sich erkennen, dass Hip-Hop den größten Anteil der tatsächlich Positiven Werte, die richtig identifiziert wurden. Das Modell konnte fast 80% aller Hip-Hop Lieder korrekt zuordnen. Ebenfalls konnte fast 76% aller Metal Lieder korrekt klassifiziert werden. Allerdings konnten gerade mal 13% aller Alternativ Lieder richtig zugeordnet werden. \n",
    "\n",
    "Rock, Pop und Party Lieder haben eine Precision von unter 50%, dabei liegt Rock bei knapp 42% und Pop wie auch Party Lieder liegen bei ungefähr 35%. Wenn das Modell ein Lied als Party Lied klassifiziert hat, handelt ist sich in gerade mal 34% der Fälle wirklich um ein Party Lied. "
   ]
  },
  {
   "cell_type": "code",
   "execution_count": null,
   "id": "c24dc38c",
   "metadata": {},
   "outputs": [],
   "source": [
    "plot_model(tuned_gbc,plot=\"class_report\")"
   ]
  },
  {
   "cell_type": "markdown",
   "id": "d6660e1b",
   "metadata": {},
   "source": [
    "Anhand des Feature Importance Diagramms lässt sich erkennen, dass die Danceability und die Accousticness am wichtigsten für eine Zuordnung ist, während die Liveness am irrelevantesten ist. "
   ]
  },
  {
   "cell_type": "code",
   "execution_count": null,
   "id": "9363d6a1",
   "metadata": {},
   "outputs": [],
   "source": [
    "plot_model(tuned_gbc,plot=\"feature\")"
   ]
  },
  {
   "cell_type": "markdown",
   "id": "a628e22f",
   "metadata": {},
   "source": [
    "**Vorhersage:**\n",
    "\n",
    "Mit der *predict\\_model()* Funktion wurde eine Genauigkeit von 48% erzielt. Das heißt 48% aller Testdaten wurden richtig klassifiziert. Da die Genauigkeit nicht signifikant von der Modell Genauigkeit abweicht, ist dies ein Indikator dafür, dass kein overfitting vorliegt. "
   ]
  },
  {
   "cell_type": "code",
   "execution_count": null,
   "id": "06b1db88",
   "metadata": {},
   "outputs": [],
   "source": [
    "predict_model(tuned_gbc)"
   ]
  },
  {
   "cell_type": "markdown",
   "id": "b064340f",
   "metadata": {},
   "source": [
    "**Finalisierung**\n",
    "\n",
    "Mit der *finalize\\_model()* Funktion wird das Modell finalisiert. Da das gbc Modell die besten Werte erzielt hatte, wird dies das Finale Modell. Das Finale Modell wird mit unbekannten Daten getestet. Dabei handelt es sich um die Daten, die am Anfang mit der *split\\_data()* Funktion aufgeteilt wurden."
   ]
  },
  {
   "cell_type": "code",
   "execution_count": null,
   "id": "184da120",
   "metadata": {},
   "outputs": [],
   "source": [
    "final_model = finalize_model(tuned_gbc)"
   ]
  },
  {
   "cell_type": "code",
   "execution_count": null,
   "id": "f13c1c1e",
   "metadata": {},
   "outputs": [],
   "source": [
    "unseen_predict = predict_model(final_model,data=data_unseen)\n",
    "unseen_predict.head()"
   ]
  },
  {
   "cell_type": "code",
   "execution_count": null,
   "id": "06113636",
   "metadata": {},
   "outputs": [],
   "source": [
    "pred_wrong = len(unseen_predict.loc[unseen_predict[\"genre\"] != unseen_predict[\"Label\"]])\n",
    "pred_right = len(unseen_predict.loc[unseen_predict[\"genre\"] == unseen_predict[\"Label\"]])\n",
    "\n",
    "print(F\"Es wurden {pred_right} Genres richtig eingeordnet\")\n",
    "print(F\"Es wurden {pred_wrong} Genres falsch eingeordnet\")"
   ]
  },
  {
   "cell_type": "code",
   "execution_count": null,
   "id": "a675efdd",
   "metadata": {},
   "outputs": [],
   "source": [
    "plt.bar([\"Richtig Eingeordnet\",\"Falsch Falsch eingeordnet\"],[pred_right,pred_wrong])\n",
    "plt.show()"
   ]
  },
  {
   "cell_type": "markdown",
   "id": "0f620971",
   "metadata": {},
   "source": [
    "Von den 942 Daten aus den unbekannten Datensatz konnten gerade einmal 443 richtig klassifiziert werden. Dies bedeutet, dass es sich kein gutes Modell handelt. Die Frage ist, ob sich die die Genauigkeit mit mehr Daten verbessern lässt. Um dies zu überprüfen, werden zwei weiter Modelle generiert. Diesmal wird die Fragestellung allerdings dahingegen angepasst, ob das Lied zum Genre X gehört oder nicht. Damit würde es sich um eine Binäre Klassifikation handeln. "
   ]
  },
  {
   "cell_type": "markdown",
   "id": "d0992e0b",
   "metadata": {},
   "source": [
    "Der Datensatz wird mit den Tabellen *is\\_metal* und *is\\_alternative* erweitert (1 = ja, 0 = nein), da dieses Genre am besten zugeordnet werden konnten bzw. am schlechtesten. "
   ]
  },
  {
   "cell_type": "code",
   "execution_count": null,
   "id": "00b784f0",
   "metadata": {},
   "outputs": [],
   "source": [
    "metal = []\n",
    "alternativ = []\n",
    "\n",
    "for i in df[\"genre\"]:\n",
    "    if i == \"metal\":\n",
    "        metal.append(1)\n",
    "        alternativ.append(0)\n",
    "    elif i == \"alternative\":\n",
    "        alternativ.append(1)\n",
    "        metal.append(0)\n",
    "    else:\n",
    "        alternativ.append(0)\n",
    "        metal.append(0)\n",
    "df[\"is_metal\"]=metal\n",
    "df[\"is_alternativ\"]=alternativ"
   ]
  },
  {
   "cell_type": "code",
   "execution_count": null,
   "id": "ef3c607f",
   "metadata": {},
   "outputs": [],
   "source": [
    "df.head()"
   ]
  },
  {
   "cell_type": "markdown",
   "id": "62754614",
   "metadata": {},
   "source": [
    "**Metal Song**\n",
    "\n",
    "Das Vorgehen bleibt dasselbe, wie beim ersten Modell. Diesmal wird allerdings zusätzlich das Feature *genre* nicht mit berücksichtig, da anhand der Informationen aus diesem Feature genau gesagt werden kann, ob es sich um ein Metal Song handelt oder nicht. "
   ]
  },
  {
   "cell_type": "code",
   "execution_count": null,
   "id": "d330249b",
   "metadata": {},
   "outputs": [],
   "source": [
    "data, data_unseen = split_data(df)"
   ]
  },
  {
   "cell_type": "code",
   "execution_count": null,
   "id": "1088e479",
   "metadata": {},
   "outputs": [],
   "source": [
    "exp_clf = setup(data,target=\"is_metal\",session_id=21,ignore_features = [\"id\",\"titel\",\"genre\",\"is_alternativ\"],fix_imbalance=True)"
   ]
  },
  {
   "cell_type": "code",
   "execution_count": null,
   "id": "19288384",
   "metadata": {},
   "outputs": [],
   "source": [
    "models = compare_models()"
   ]
  },
  {
   "cell_type": "markdown",
   "id": "701953f7",
   "metadata": {},
   "source": [
    "Nach dem alle Modelle miteinander verglichen wurden, erzielt das *Extra Trees Classifier* Modell die größte Genauigkeit von 91%, gefolgt von dem lgbm Modell mit einer Genauigkeit von 90,7%."
   ]
  },
  {
   "cell_type": "code",
   "execution_count": null,
   "id": "31c153c2",
   "metadata": {},
   "outputs": [],
   "source": [
    "et = create_model(\"et\")"
   ]
  },
  {
   "cell_type": "code",
   "execution_count": null,
   "id": "75491c61",
   "metadata": {},
   "outputs": [],
   "source": [
    "tuned_et = tune_model(et)"
   ]
  },
  {
   "cell_type": "code",
   "execution_count": null,
   "id": "d79dfcb8",
   "metadata": {},
   "outputs": [],
   "source": [
    "lgbm = create_model(\"lightgbm\")"
   ]
  },
  {
   "cell_type": "code",
   "execution_count": null,
   "id": "8a26b604",
   "metadata": {},
   "outputs": [],
   "source": [
    "tuned_lgbm = tune_model(lgbm)"
   ]
  },
  {
   "cell_type": "markdown",
   "id": "f37b2159",
   "metadata": {},
   "source": [
    "Nach dem Erstellen und Anpassen der Hyperparametern der Modelle hat sich die Genauigkeit des Extra Trees Classifier um fast 6% verschlechtert, während die Genauigkeit des lgbm Modells unverändert blieb. "
   ]
  },
  {
   "cell_type": "markdown",
   "id": "dbb781c5",
   "metadata": {},
   "source": [
    "**Plot**\n",
    "\n",
    "Anhand des Classification Reports lässt sich erkennen, dass fast 96% aller nicht Metal Songs, auch nicht als Lied aus dem Genre Metal zugeordnet wurde. Trotzdem wurden gerade mal 63% aller Metal Songs auch der Klasse *Metal* zugeordnet. Wenn ein Lied als Metal Song klassifiziert wurde, ist dies in 70% der Fälle richtig. "
   ]
  },
  {
   "cell_type": "code",
   "execution_count": null,
   "id": "70970474",
   "metadata": {},
   "outputs": [],
   "source": [
    "plot_model(tuned_lgbm,plot=\"confusion_matrix\")"
   ]
  },
  {
   "cell_type": "code",
   "execution_count": null,
   "id": "dadcc0a5",
   "metadata": {},
   "outputs": [],
   "source": [
    "plot_model(tuned_lgbm,plot=\"class_report\")"
   ]
  },
  {
   "cell_type": "markdown",
   "id": "7ae493c5",
   "metadata": {},
   "source": [
    "**Vorhersage**\n",
    "\n",
    "Mit den Testdaten wurden 91% der Daten richtig klassifiziert. Allerdings konnten gerade mal 63% der Metal Songs auch dem Metal Genre zugeordnet werden und wenn es ein Lied als Metal Song klassifiziert hatte, war dies in 70% der fällen richtig. "
   ]
  },
  {
   "cell_type": "code",
   "execution_count": null,
   "id": "5baeefb3",
   "metadata": {},
   "outputs": [],
   "source": [
    "predict_model(tuned_lgbm)"
   ]
  },
  {
   "cell_type": "code",
   "execution_count": null,
   "id": "b0cb3c76",
   "metadata": {},
   "outputs": [],
   "source": [
    "final_metal_model = finalize_model(tuned_lgbm)"
   ]
  },
  {
   "cell_type": "code",
   "execution_count": null,
   "id": "2125c90e",
   "metadata": {},
   "outputs": [],
   "source": [
    "unseen_predict = predict_model(final_metal_model,data=data_unseen)\n",
    "unseen_predict.head()"
   ]
  },
  {
   "cell_type": "markdown",
   "id": "950a5b33",
   "metadata": {},
   "source": [
    "Das fertige Modell konnte von den 942 Daten 846 richtig zuordnen"
   ]
  },
  {
   "cell_type": "code",
   "execution_count": null,
   "id": "0429ca5c",
   "metadata": {},
   "outputs": [],
   "source": [
    "pred_wrong = len(unseen_predict.loc[unseen_predict[\"is_metal\"] != unseen_predict[\"Label\"]])\n",
    "pred_right = len(unseen_predict.loc[unseen_predict[\"is_metal\"] == unseen_predict[\"Label\"]])\n",
    "\n",
    "print(F\"Es wurden {pred_right} Genres richtig eingeordnet\")\n",
    "print(F\"Es wurden {pred_wrong} Genres falsch eingeordnet\")"
   ]
  },
  {
   "cell_type": "code",
   "execution_count": null,
   "id": "22cb0848",
   "metadata": {},
   "outputs": [],
   "source": [
    "plt.bar([\"Richtig Eingeordnet\",\"Falsch Falsch eingeordnet\"],[pred_right,pred_wrong])\n",
    "plt.show()"
   ]
  },
  {
   "cell_type": "code",
   "execution_count": null,
   "id": "6de00434",
   "metadata": {},
   "outputs": [],
   "source": [
    "**Alternative**"
   ]
  },
  {
   "cell_type": "code",
   "execution_count": null,
   "id": "7247a6a6",
   "metadata": {},
   "outputs": [],
   "source": [
    "df.groupby(\"is_alternativ\").size()"
   ]
  },
  {
   "cell_type": "markdown",
   "id": "3de2ea81",
   "metadata": {},
   "source": [
    "Der Ablauf ist derselben wie beim zweiten Modell. Da die Daten erneut nicht aus balanciert sind, muss PyCaret die Daten wieder synthetisch ausbalancieren."
   ]
  },
  {
   "cell_type": "code",
   "execution_count": null,
   "id": "8c4b0f38",
   "metadata": {},
   "outputs": [],
   "source": [
    "exp_clf = setup(data,target=\"is_alternativ\",session_id=21,ignore_features = [\"id\",\"titel\",\"genre\",\"is_metal\"],fix_imbalance=True)"
   ]
  },
  {
   "cell_type": "code",
   "execution_count": null,
   "id": "1f2edc82",
   "metadata": {},
   "outputs": [],
   "source": [
    "models = compare_models()"
   ]
  },
  {
   "cell_type": "code",
   "execution_count": null,
   "id": "901e7d57",
   "metadata": {},
   "outputs": [],
   "source": [
    "lightgbm = create_model(\"lightgbm\")"
   ]
  },
  {
   "cell_type": "code",
   "execution_count": null,
   "id": "572e9989",
   "metadata": {},
   "outputs": [],
   "source": [
    "tuned_lgbm = tune_model(lightgbm)"
   ]
  },
  {
   "cell_type": "code",
   "execution_count": null,
   "id": "1b082341",
   "metadata": {},
   "outputs": [],
   "source": [
    "gbc = create_model(gbc)"
   ]
  },
  {
   "cell_type": "code",
   "execution_count": null,
   "id": "3d08967f",
   "metadata": {},
   "outputs": [],
   "source": [
    "tuned_gbc = tune_model(gbc)"
   ]
  },
  {
   "cell_type": "markdown",
   "id": "24efcb90",
   "metadata": {},
   "source": [
    "Nach dem Evaluieren der Modelle und dem Anpassen der Hyperparametern hat das lgbm Modell konnte das lgbm Modell die beste Genauigkeit erzielen."
   ]
  },
  {
   "cell_type": "markdown",
   "id": "1509afd7",
   "metadata": {},
   "source": [
    "**Plot**\n",
    "\n",
    "Wie man in der Confusion Matrix erkennt, wurden wenig Lieder aus dem Alternativ Genre auch als Alternativ klassifiziert. 7% aller Alternative Songs wurden auch als Alternative erkannt, wie es der Recall aus dem Class Report zeigt.  Allerdings waren fast 80% aller Songs die als Alternative klassifiziert wurden auch Lieder aus diesem Genre."
   ]
  },
  {
   "cell_type": "code",
   "execution_count": null,
   "id": "40a1fded",
   "metadata": {},
   "outputs": [],
   "source": [
    "plot_model(tuned_lgbm,plot=\"confusion_matrix\")"
   ]
  },
  {
   "cell_type": "code",
   "execution_count": null,
   "id": "2fd60c21",
   "metadata": {},
   "outputs": [],
   "source": [
    "plot_model(tuned_lgbm,plot=\"class_report\")"
   ]
  },
  {
   "cell_type": "markdown",
   "id": "a66199f7",
   "metadata": {},
   "source": [
    "**Vorhersage**\n",
    "\n",
    "Die Vorhersage mit den Testdaten bestätigt die Aussagen aus dem Class Report. Zwar ist das Modell zu fas 88% genau, allerdings wurden gerade einmal fast 7% aller Alternative Songs richtig klassifiziert. "
   ]
  },
  {
   "cell_type": "code",
   "execution_count": null,
   "id": "4a9e6cb3",
   "metadata": {},
   "outputs": [],
   "source": [
    "predict_model(tuned_lgbm)"
   ]
  },
  {
   "cell_type": "code",
   "execution_count": null,
   "id": "cbfa53af",
   "metadata": {},
   "outputs": [],
   "source": [
    "final_alternativ_model = finalize_model(tuned_lgbm)"
   ]
  },
  {
   "cell_type": "markdown",
   "id": "92feab16",
   "metadata": {},
   "source": [
    "Das Modell zur klassifizierung, ob ein Lied dem Alternativ Genre angehört, konnten 824 Daten von den insgesamt 942 Daten richtig zugeordnet werden."
   ]
  },
  {
   "cell_type": "code",
   "execution_count": null,
   "id": "d2219616",
   "metadata": {},
   "outputs": [],
   "source": [
    "unseen_predict = predict_model(final_alternativ_model,data=data_unseen)\n",
    "unseen_predict.head()"
   ]
  },
  {
   "cell_type": "code",
   "execution_count": null,
   "id": "465fe69a",
   "metadata": {},
   "outputs": [],
   "source": [
    "pred_wrong = len(unseen_predict.loc[unseen_predict[\"is_alternativ\"] != unseen_predict[\"Label\"]])\n",
    "pred_right = len(unseen_predict.loc[unseen_predict[\"is_alternativ\"] == unseen_predict[\"Label\"]])\n",
    "\n",
    "print(F\"Es wurden {pred_right} Genres richtig eingeordnet\")\n",
    "print(F\"Es wurden {pred_wrong} Genres falsch eingeordnet\")"
   ]
  },
  {
   "cell_type": "code",
   "execution_count": null,
   "id": "bc4a5542",
   "metadata": {},
   "outputs": [],
   "source": [
    "plt.bar([\"Richtig Eingeordnet\",\"Falsch Falsch eingeordnet\"],[pred_right,pred_wrong])\n",
    "plt.show()"
   ]
  },
  {
   "cell_type": "markdown",
   "id": "fcd35aec",
   "metadata": {},
   "source": [
    "**Speicherung der Modelle**\n",
    "\n"
   ]
  },
  {
   "cell_type": "code",
   "execution_count": null,
   "id": "c937cd45",
   "metadata": {},
   "outputs": [],
   "source": [
    "save_model(final_model,\"Finale Multiclass Model 15072022\")\n",
    "save_model(final_metal_model,\"Finale Binary Model Metal 15072022\")\n",
    "save_model(final_alternativ_model,\"Finale Binary Model Alternativ 15072022\")"
   ]
  },
  {
   "cell_type": "markdown",
   "id": "e0c58372",
   "metadata": {},
   "source": [
    "**Fazit**\n",
    "\n",
    "Es wurden drei Modelle erstellt, eins zur Klassifizierung des Genres eines Liedes und zwei zum Überprüfen, ob ein Lied dem Genre Metal beziehungsweise Alternative angehörte. Das erste Modell konnte eine Genauigkeit von 48% erzielen. Trotz der geringen Genauigkeit konnte das Modell gut zwischen Genres unterscheiden, die sich Stark voneinander unterscheiden. So wurden so gut wie kaum Lieder aus dem Pop Genre, fälschlicherweise dem Metal Genre zugewiesen. Größer Probleme, gab es allerdings bei Genre, die in eine selbe Richtung gehen. Es hat zum Beispiel größere Probleme dabei, ein Song zwischen Metal und Rock zu unterscheiden. Dies zeigt das letzte Modell auch nochmal. Es konnten zwar viele Lieder richtig klassifizieren, hatte aber Probleme damit eigentliche Alternative Lieder auch als diese zu Klassifizieren. Dies könnte sich unteranderem dadurch erklären lassen, dass es sich bei dem Genre mehr um ein Sub-Genre des Metal und Rock Genre handelt. Daher wäre interessant zu sehen, wie sich die Genauigkeit des ersten Modelles verändern würde, wenn der Fokus nur auf Genre liegt, die sich musikalisch stark voneinander unterscheiden. \n",
    "\n",
    "Des Weiteren wurde nicht berücksichtig, dass Songs mehreren Genres angehören können. Bei der Datenerhebung wurden die Lieder dem Genre zugewiesen, in dem sie häufiger vertreten sind. In der heutigen Musik ist allerdings nicht unüblich, dass sich unterschiedliche Genres miteinander vermischen und ein Lied sowohl als Pop Song gelten kann, gleichzeitig aber auch als EDM-Dance Song. Dieser Faktor wurde beim Modell und der Datenerhebung nicht berücksichtig. "
   ]
  }
 ],
 "metadata": {
  "kernelspec": {
   "display_name": "pycaretenv-conda",
   "language": "python",
   "name": "pycaretcondaenv"
  },
  "language_info": {
   "codemirror_mode": {
    "name": "ipython",
    "version": 3
   },
   "file_extension": ".py",
   "mimetype": "text/x-python",
   "name": "python",
   "nbconvert_exporter": "python",
   "pygments_lexer": "ipython3",
   "version": "3.8.13"
  }
 },
 "nbformat": 4,
 "nbformat_minor": 5
}
